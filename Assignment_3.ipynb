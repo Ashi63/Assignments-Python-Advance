{
 "cells": [
  {
   "cell_type": "markdown",
   "id": "0e01ba0a",
   "metadata": {},
   "source": [
    "#### 1. What is the concept of an abstract superclass?"
   ]
  },
  {
   "cell_type": "markdown",
   "id": "a3079d53",
   "metadata": {},
   "source": [
    "- Abstract class will have atleast one abstract method.\n",
    "- Methods which decleared by not having any body is called abstract methods.\n",
    "\n",
    "def():\n",
    "    pass\n",
    "\n",
    "- Class which has abstract methods is called abstract classes.\n",
    "- Python by default does not support abstract classes.\n"
   ]
  },
  {
   "cell_type": "code",
   "execution_count": 11,
   "id": "bdfa4316",
   "metadata": {},
   "outputs": [],
   "source": [
    "class X:                           # <----------- normal class \n",
    "    def show(self):\n",
    "        pass                       #<------------ normal method\n",
    "    \n",
    "# we can make object of it \n",
    "\n",
    "x1 = X()\n",
    "x1.show()\n",
    "\n",
    "# it works fine because X class is not yet fully abstract class.\n",
    "# to make it abstract class we have to import module ABC"
   ]
  },
  {
   "cell_type": "code",
   "execution_count": 12,
   "id": "77902436",
   "metadata": {},
   "outputs": [
    {
     "ename": "TypeError",
     "evalue": "Can't instantiate abstract class Computer with abstract method show",
     "output_type": "error",
     "traceback": [
      "\u001b[1;31m---------------------------------------------------------------------------\u001b[0m",
      "\u001b[1;31mTypeError\u001b[0m                                 Traceback (most recent call last)",
      "Cell \u001b[1;32mIn[12], line 9\u001b[0m\n\u001b[0;32m      5\u001b[0m     \u001b[38;5;129m@abstractmethod\u001b[39m                          \u001b[38;5;66;03m# <------ this makes the method abstract method\u001b[39;00m\n\u001b[0;32m      6\u001b[0m     \u001b[38;5;28;01mdef\u001b[39;00m \u001b[38;5;21mshow\u001b[39m(\u001b[38;5;28mself\u001b[39m):\n\u001b[0;32m      7\u001b[0m         \u001b[38;5;28;01mpass\u001b[39;00m\n\u001b[1;32m----> 9\u001b[0m c1 \u001b[38;5;241m=\u001b[39m \u001b[43mComputer\u001b[49m\u001b[43m(\u001b[49m\u001b[43m)\u001b[49m\n\u001b[0;32m     10\u001b[0m c1\u001b[38;5;241m.\u001b[39mshow()\n\u001b[0;32m     12\u001b[0m \u001b[38;5;66;03m# Now we will get error beacuse we canot create an object of abstract class because we have method which is not defined.\u001b[39;00m\n",
      "\u001b[1;31mTypeError\u001b[0m: Can't instantiate abstract class Computer with abstract method show"
     ]
    }
   ],
   "source": [
    "from abc import ABC,abstractmethod\n",
    "\n",
    "class Computer(ABC):                                # <------ ABC makes class X subclass of ABC, X now becomes abstract class\n",
    "    \n",
    "    @abstractmethod                          # <------ this makes the method abstract method\n",
    "    def show(self):\n",
    "        pass\n",
    "\n",
    "c1 = Computer()\n",
    "c1.show()\n",
    "\n",
    "# Now we will get error beacuse we canot create an object of abstract class because we have method which is not defined."
   ]
  },
  {
   "cell_type": "code",
   "execution_count": 13,
   "id": "9d80753d",
   "metadata": {},
   "outputs": [
    {
     "ename": "TypeError",
     "evalue": "Can't instantiate abstract class Laptop with abstract method show",
     "output_type": "error",
     "traceback": [
      "\u001b[1;31m---------------------------------------------------------------------------\u001b[0m",
      "\u001b[1;31mTypeError\u001b[0m                                 Traceback (most recent call last)",
      "Cell \u001b[1;32mIn[13], line 12\u001b[0m\n\u001b[0;32m      9\u001b[0m \u001b[38;5;28;01mclass\u001b[39;00m \u001b[38;5;21;01mLaptop\u001b[39;00m(Computer):                     \u001b[38;5;66;03m# <------- Laptop is sub class of computer\u001b[39;00m\n\u001b[0;32m     10\u001b[0m     \u001b[38;5;28;01mpass\u001b[39;00m\n\u001b[1;32m---> 12\u001b[0m L1 \u001b[38;5;241m=\u001b[39m \u001b[43mLaptop\u001b[49m\u001b[43m(\u001b[49m\u001b[43m)\u001b[49m\n\u001b[0;32m     14\u001b[0m \u001b[38;5;66;03m# Again we will get error because Laptop in inheriting from the Computer class so it's compulsion that we have to define the method\u001b[39;00m\n",
      "\u001b[1;31mTypeError\u001b[0m: Can't instantiate abstract class Laptop with abstract method show"
     ]
    }
   ],
   "source": [
    "from abc import ABC,abstractmethod\n",
    "\n",
    "class Computer(ABC):                                # <------ ABC makes class X subclass of ABC, X now becomes abstract class\n",
    "    \n",
    "    @abstractmethod                          # <------ this makes the method abstract method\n",
    "    def show(self):\n",
    "        pass\n",
    "\n",
    "class Laptop(Computer):                     # <------- Laptop is sub class of computer\n",
    "    pass\n",
    "    \n",
    "L1 = Laptop()\n",
    "\n",
    "# Again we will get error because Laptop in inheriting from the Computer class so it's compulsion that we have to define the method"
   ]
  },
  {
   "cell_type": "code",
   "execution_count": 14,
   "id": "ad7132d3",
   "metadata": {},
   "outputs": [
    {
     "name": "stdout",
     "output_type": "stream",
     "text": [
      "New Laptop\n"
     ]
    }
   ],
   "source": [
    "from abc import ABC,abstractmethod\n",
    "\n",
    "class Computer(ABC):                                # <------ ABC makes class X subclass of ABC, X now becomes abstract class\n",
    "    \n",
    "    @abstractmethod                          # <------ this makes the method abstract method\n",
    "    def show(self):\n",
    "        pass\n",
    "\n",
    "class Laptop(Computer):                     # <------- Laptop is sub class of computer\n",
    "    \n",
    "    def show(self):\n",
    "        print(\"New Laptop\")\n",
    "    \n",
    "L1 = Laptop()\n",
    "L1.show()\n",
    "\n",
    "# Now we will not get any error, so its the compulsion that we ahve to define all the methods of abstract class."
   ]
  },
  {
   "cell_type": "markdown",
   "id": "9f0c8e73",
   "metadata": {},
   "source": [
    "#### 2. What happens when a class statement's top level contains a basic assignment statement?"
   ]
  },
  {
   "cell_type": "markdown",
   "id": "16d2bfbe",
   "metadata": {},
   "source": [
    "- When class statement's top level contains a basic assignment statement, it is considered as class attribute. \n",
    "- Change in the value of class attribute will affect all the instances of the class."
   ]
  },
  {
   "cell_type": "code",
   "execution_count": 17,
   "id": "be8769ab",
   "metadata": {},
   "outputs": [
    {
     "name": "stdout",
     "output_type": "stream",
     "text": [
      "21\n",
      "22\n",
      "22\n"
     ]
    }
   ],
   "source": [
    "class MyClass:\n",
    "    no_of_students = 20       #<----------------------- class attribute\n",
    "    \n",
    "    def increase_no_of_students(self):\n",
    "        MyClass.no_of_students += 1\n",
    "        \n",
    "student_1 = MyClass()\n",
    "student_1.increase_no_of_students()\n",
    "print(student_1.no_of_students)\n",
    "\n",
    "student_2 = MyClass()\n",
    "student_2.increase_no_of_students()\n",
    "print(student_2.no_of_students)\n",
    "\n",
    "\n",
    "print(MyClass.no_of_students)"
   ]
  },
  {
   "cell_type": "markdown",
   "id": "021c6476",
   "metadata": {},
   "source": [
    "#### 3. Why does a class need to manually call a superclass's __init__ method?"
   ]
  },
  {
   "cell_type": "markdown",
   "id": "ccaf17f2",
   "metadata": {},
   "source": [
    "- Because when an object of child class is built which is having it's own __init__ method, control will go to child's init method and will do operations, but what if we need to use the variables of the parent class with the same name, so we need to manually call it.\n",
    "- A class need to manually call a superclass's init method because, by doing so,\n",
    "- we can access those methods of the super-class (parent class) which have been overridden in a sub-class (child class) that inherits from it."
   ]
  },
  {
   "cell_type": "markdown",
   "id": "4b0890e8",
   "metadata": {},
   "source": [
    "#### 4. How can you augment, instead of completely replacing, an inherited method?"
   ]
  },
  {
   "cell_type": "markdown",
   "id": "d01abae8",
   "metadata": {},
   "source": [
    "- The way to do that in Python is by calling to the original version directly, with augmented arguments."
   ]
  },
  {
   "cell_type": "markdown",
   "id": "986b4c03",
   "metadata": {},
   "source": [
    "#### 5. How is the local scope of a class different from that of a function?"
   ]
  },
  {
   "cell_type": "markdown",
   "id": "da89f588",
   "metadata": {},
   "source": [
    "- if a variable is declared within a function then it is a local variable and is accessible to that function only.\n",
    "- In class, if the variable is declared without self then it is accessible within that function only,kinda local variable.\n",
    "- However if it declared using self like self.variable_name = 'somevalue', then it is accessible via any object but not via the class name."
   ]
  },
  {
   "cell_type": "code",
   "execution_count": null,
   "id": "db03e53b",
   "metadata": {},
   "outputs": [],
   "source": []
  }
 ],
 "metadata": {
  "kernelspec": {
   "display_name": "Python 3 (ipykernel)",
   "language": "python",
   "name": "python3"
  },
  "language_info": {
   "codemirror_mode": {
    "name": "ipython",
    "version": 3
   },
   "file_extension": ".py",
   "mimetype": "text/x-python",
   "name": "python",
   "nbconvert_exporter": "python",
   "pygments_lexer": "ipython3",
   "version": "3.10.5"
  }
 },
 "nbformat": 4,
 "nbformat_minor": 5
}
