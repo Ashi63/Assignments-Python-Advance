{
 "cells": [
  {
   "cell_type": "markdown",
   "id": "ff092f16",
   "metadata": {},
   "source": [
    "#### Q1. What is the relationship between classes and modules?"
   ]
  },
  {
   "cell_type": "markdown",
   "id": "774907bf",
   "metadata": {},
   "source": [
    "- Modules are collections of methods and constants. They cannot generate instances. \n",
    "- Classes may generate instances (objects), and have per-instance state (instance variables)."
   ]
  },
  {
   "cell_type": "markdown",
   "id": "2a7e4283",
   "metadata": {},
   "source": [
    "#### Q2. How do you make instances and classes?"
   ]
  },
  {
   "cell_type": "markdown",
   "id": "0ff66807",
   "metadata": {},
   "source": [
    "- Create a class named MyClass, with a property named x:"
   ]
  },
  {
   "cell_type": "code",
   "execution_count": 1,
   "id": "dbc7fe2b",
   "metadata": {},
   "outputs": [],
   "source": [
    "class MyClass:\n",
    "    x = 5"
   ]
  },
  {
   "cell_type": "markdown",
   "id": "1252f065",
   "metadata": {},
   "source": [
    "- Now we can use the class named MyClass to create objects:\n",
    "    - Create an object named p1, and print the value of x:"
   ]
  },
  {
   "cell_type": "code",
   "execution_count": 2,
   "id": "cabd81f5",
   "metadata": {},
   "outputs": [
    {
     "data": {
      "text/plain": [
       "5"
      ]
     },
     "execution_count": 2,
     "metadata": {},
     "output_type": "execute_result"
    }
   ],
   "source": [
    "p1 = MyClass()\n",
    "p1.x"
   ]
  },
  {
   "cell_type": "markdown",
   "id": "7d6cd8ec",
   "metadata": {},
   "source": [
    "#### Q3. Where and how should be class attributes created?"
   ]
  },
  {
   "cell_type": "markdown",
   "id": "764e0f44",
   "metadata": {},
   "source": [
    "- Class attributes belong to the class itself they will be shared by all the instances. \n",
    "- Such attributes are defined in the class body parts usually at the top, for legibility."
   ]
  },
  {
   "cell_type": "code",
   "execution_count": 6,
   "id": "fbc741da",
   "metadata": {},
   "outputs": [
    {
     "name": "stdout",
     "output_type": "stream",
     "text": [
      "21\n",
      "22\n",
      "22\n"
     ]
    }
   ],
   "source": [
    "class MyClass:\n",
    "    no_of_students = 20       #<----------------------- class attribute\n",
    "    \n",
    "    def increase_no_of_students(self):\n",
    "        MyClass.no_of_students += 1\n",
    "        \n",
    "student_1 = MyClass()\n",
    "student_1.increase_no_of_students()\n",
    "print(student_1.no_of_students)\n",
    "\n",
    "student_2 = MyClass()\n",
    "student_2.increase_no_of_students()\n",
    "print(student_2.no_of_students)\n",
    "\n",
    "\n",
    "print(MyClass.no_of_students)"
   ]
  },
  {
   "cell_type": "markdown",
   "id": "1a3c6bbd",
   "metadata": {},
   "source": [
    "#### Q4. Where and how are instance attributes created?"
   ]
  },
  {
   "cell_type": "markdown",
   "id": "65d75724",
   "metadata": {},
   "source": [
    "- Unlike class attributes, instance attributes are not shared by objects. \n",
    "- Every object has its own copy of the instance attribute (In case of class attributes all object refer to single copy)"
   ]
  },
  {
   "cell_type": "code",
   "execution_count": 10,
   "id": "c8265172",
   "metadata": {},
   "outputs": [
    {
     "name": "stdout",
     "output_type": "stream",
     "text": [
      "ashish\n",
      "123\n",
      "{'name': 'ashish', 'roll_no': '123'}\n",
      "\n",
      "['__class__', '__delattr__', '__dict__', '__dir__', '__doc__', '__eq__', '__format__', '__ge__', '__getattribute__', '__gt__', '__hash__', '__init__', '__init_subclass__', '__le__', '__lt__', '__module__', '__ne__', '__new__', '__reduce__', '__reduce_ex__', '__repr__', '__setattr__', '__sizeof__', '__str__', '__subclasshook__', '__weakref__', 'increase_no_of_students', 'name', 'no_of_students', 'roll_no', 'show']\n"
     ]
    }
   ],
   "source": [
    "class MyClass:\n",
    "    no_of_students = 20               #<----------------------- class attribute\n",
    "    \n",
    "    def __init__(self,name,roll_no):\n",
    "        self.name = name              # <---------------------- instance varible\n",
    "        self.roll_no = roll_no        # <---------------------- instance varible\n",
    "    \n",
    "    def show(self):\n",
    "        print(self.name)\n",
    "        print(self.roll_no)\n",
    "        \n",
    "    def increase_no_of_students(self):\n",
    "        MyClass.no_of_students += 1\n",
    "        \n",
    "        \n",
    "student_1 = MyClass(\"ashish\",\"123\")\n",
    "student_1.show()\n",
    "\n",
    "print(vars(student_1))\n",
    "print()\n",
    "print(dir(student_1))"
   ]
  },
  {
   "cell_type": "markdown",
   "id": "f8c686ba",
   "metadata": {},
   "source": [
    "#### Q5. What does the term \"self\" in a Python class mean?"
   ]
  },
  {
   "cell_type": "markdown",
   "id": "be472e78",
   "metadata": {},
   "source": [
    "- The self parameter is a reference to the current instance of the class, and is used to access variables that belongs to the class.\n",
    "- It does not have to be named self , you can call it whatever you like, but it has to be the first parameter of any function in the class"
   ]
  },
  {
   "cell_type": "markdown",
   "id": "377850d0",
   "metadata": {},
   "source": [
    "#### Q6. How does a Python class handle operator overloading?"
   ]
  },
  {
   "cell_type": "markdown",
   "id": "4c0e55b0",
   "metadata": {},
   "source": [
    "- Operator Overloading means giving extended meaning beyond their predefined operational meaning.\n",
    "- For example operator + is used to add two integers as well as join two strings and merge two lists.\n",
    "- It is achievable because ‘+’ operator is overloaded by int class and str class.\n",
    "- You might have noticed that the same built-in operator or function shows different behavior for objects of different classes, this is called Operator Overloading. "
   ]
  },
  {
   "cell_type": "markdown",
   "id": "18bc3668",
   "metadata": {},
   "source": [
    "- Consider that we have two objects which are a physical representation of a class (user-defined data type) and we have to add two objects with binary ‘+’ operator it throws an error, because compiler don’t know how to add two objects.\n",
    "- So we define a method for an operator and that process is called operator overloading.\n",
    "- We can overload all existing operators but we can’t create a new operator.\n",
    "- To perform operator overloading, Python provides some special function or magic function that is automatically invoked when it is associated with that particular operator. \n",
    "- For example, when we use + operator, the magic method __add__ is automatically invoked in which the operation for + operator is defined."
   ]
  },
  {
   "cell_type": "code",
   "execution_count": 19,
   "id": "b8d752cf",
   "metadata": {},
   "outputs": [
    {
     "name": "stdout",
     "output_type": "stream",
     "text": [
      "3\n",
      "FullStack\n",
      "3\n",
      "FullStack\n",
      "3\n",
      "FullStack\n"
     ]
    }
   ],
   "source": [
    "class A:\n",
    "    def __init__(self,a):\n",
    "        self.a = a\n",
    "        \n",
    "    def __add__(self,other):\n",
    "        return self.a + other.a\n",
    "    \n",
    "obj1 = A(1)\n",
    "obj2 = A(2)\n",
    "obj3 = A(\"Full\")\n",
    "obj4 = A(\"Stack\")\n",
    "\n",
    "print(obj1+obj2)\n",
    "print(obj3+obj4)\n",
    "\n",
    "print(A.__add__(obj1,obj2))\n",
    "print(A.__add__(obj3,obj4))\n",
    "\n",
    "print(obj1.__add__(obj2))\n",
    "print(obj3.__add__(obj4))\n"
   ]
  },
  {
   "cell_type": "markdown",
   "id": "b4404f2a",
   "metadata": {},
   "source": [
    "#### Q7. When do you consider allowing operator overloading of your classes?"
   ]
  },
  {
   "cell_type": "markdown",
   "id": "dbb7b69b",
   "metadata": {},
   "source": [
    "- Operator overloading is mostly useful when you're making a new class that falls into an existing \"Abstract Base Class\" (ABC) -- indeed, many of the ABCs in standard library module collections rely on the presence of certain special methods (and special methods, one with names starting and ending with double underscores"
   ]
  },
  {
   "cell_type": "markdown",
   "id": "f6081b7f",
   "metadata": {},
   "source": [
    "#### Q8. What is the most popular form of operator overloading?"
   ]
  },
  {
   "cell_type": "markdown",
   "id": "89fcd826",
   "metadata": {},
   "source": [
    "- A very popular and convenient example is the Addition (+) operator. \n",
    "- Just think how the '+' operator operates on two numbers and the same operator operates on two strings.\n",
    "- It performs “Addition” on numbers whereas it performs “Concatenation” on strings."
   ]
  },
  {
   "cell_type": "markdown",
   "id": "cc5e28d5",
   "metadata": {},
   "source": [
    "#### Q9. What are the two most important concepts to grasp in order to comprehend Python OOP code?"
   ]
  },
  {
   "cell_type": "markdown",
   "id": "0eb89953",
   "metadata": {},
   "source": [
    "- Both inheritance and polymorphism are fundamental concepts of object oriented programming.\n",
    "- These concepts help us to create code that can be extended and easily maintainable"
   ]
  },
  {
   "cell_type": "code",
   "execution_count": null,
   "id": "2aac4b29",
   "metadata": {},
   "outputs": [],
   "source": []
  }
 ],
 "metadata": {
  "kernelspec": {
   "display_name": "Python 3 (ipykernel)",
   "language": "python",
   "name": "python3"
  },
  "language_info": {
   "codemirror_mode": {
    "name": "ipython",
    "version": 3
   },
   "file_extension": ".py",
   "mimetype": "text/x-python",
   "name": "python",
   "nbconvert_exporter": "python",
   "pygments_lexer": "ipython3",
   "version": "3.10.5"
  }
 },
 "nbformat": 4,
 "nbformat_minor": 5
}
