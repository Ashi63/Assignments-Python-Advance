{
 "cells": [
  {
   "cell_type": "markdown",
   "id": "b09a293f",
   "metadata": {},
   "source": [
    "#### Q1. Does assigning a value to a string's indexed character violate Python's string immutability?"
   ]
  },
  {
   "cell_type": "markdown",
   "id": "5e356ea6",
   "metadata": {},
   "source": [
    "- Yes.\n",
    "- It is beacause of string immutability that means we can not change the characters in string by assigning new values to indexes."
   ]
  },
  {
   "cell_type": "markdown",
   "id": "45e3982e",
   "metadata": {},
   "source": [
    "#### Q2. Does using the += operator to concatenate strings violate Python's string immutability? Why or why not?"
   ]
  },
  {
   "cell_type": "markdown",
   "id": "7fc972f3",
   "metadata": {},
   "source": [
    "- No.\n",
    "- When we concatenate string, we assign new value to the same string variable.\n",
    "- We are not altering string based on the indexes, so it won't violate Python's string immutability."
   ]
  },
  {
   "cell_type": "markdown",
   "id": "128e580a",
   "metadata": {},
   "source": [
    "#### Q3. In Python, how many different ways are there to index a character?"
   ]
  },
  {
   "cell_type": "markdown",
   "id": "530feacb",
   "metadata": {},
   "source": [
    "- There are two methods for this, \n",
    "    - find() \n",
    "    - index() \n",
    "- both will return the lowest index at which char is found."
   ]
  },
  {
   "cell_type": "markdown",
   "id": "e8769835",
   "metadata": {},
   "source": [
    "#### Q4. What is the relationship between indexing and slicing?"
   ]
  },
  {
   "cell_type": "markdown",
   "id": "9e5c0aea",
   "metadata": {},
   "source": [
    "- Indexing is a way to access an element of a string by its position or index. \n",
    "- Slicing is accessing only part of a string and not a full string.\n",
    "- String slicing is done by using index."
   ]
  },
  {
   "cell_type": "markdown",
   "id": "59f08f97",
   "metadata": {},
   "source": [
    "#### Q5. What is an indexed character's exact data type? What is the data form of a slicing-generated substring?"
   ]
  },
  {
   "cell_type": "markdown",
   "id": "38cdcf1e",
   "metadata": {},
   "source": [
    "- 'str' is the data type of indexed character\n",
    "- 'str' is the data form of a slicing-generated substring."
   ]
  },
  {
   "cell_type": "markdown",
   "id": "f29c747e",
   "metadata": {},
   "source": [
    "#### Q6. What is the relationship between string and character \"types\" in Python?"
   ]
  },
  {
   "cell_type": "markdown",
   "id": "b22db899",
   "metadata": {},
   "source": [
    "- In Python, There is no char data type, even a single character enclosed in doubble quotes is considered as str."
   ]
  },
  {
   "cell_type": "markdown",
   "id": "be43f495",
   "metadata": {},
   "source": [
    "#### Q7. Identify at least two operators and one method that allow you to combine one or more smaller strings to create a larger string."
   ]
  },
  {
   "cell_type": "markdown",
   "id": "6fd9f1cd",
   "metadata": {},
   "source": [
    "- \"+\" will concatenate two strings and \n",
    "- \"*\" will repeat the string number of times mentioned. \n",
    "- We can also use join() method for getting a larger string."
   ]
  },
  {
   "cell_type": "code",
   "execution_count": 5,
   "id": "26344dcf",
   "metadata": {},
   "outputs": [
    {
     "name": "stdout",
     "output_type": "stream",
     "text": [
      "FullStack\n",
      "FullFullFullFull\n",
      "How are you?\n"
     ]
    }
   ],
   "source": [
    "print(\"Full\" + 'Stack')\n",
    "\n",
    "print(\"Full\" * 4)\n",
    "\n",
    "l = ['How', 'are', 'you?']\n",
    "\n",
    "s = ' '.join(l)\n",
    "\n",
    "print(s)"
   ]
  },
  {
   "cell_type": "markdown",
   "id": "38e3a0a3",
   "metadata": {},
   "source": [
    "#### Q8. What is the benefit of first checking the target string with in or not in before using the index method to find a substring?"
   ]
  },
  {
   "cell_type": "markdown",
   "id": "1ee46423",
   "metadata": {},
   "source": [
    "- Normally, when we use index() method it will return the starting index of a substring, if substring is present in a string.\n",
    "- But the major concern is if a substring is not present in a string, index() will return a ValueError. \n",
    "- To avoid this, we can first check the target string with in or not in before using the index method to find a substring."
   ]
  },
  {
   "cell_type": "code",
   "execution_count": 6,
   "id": "9448faef",
   "metadata": {},
   "outputs": [
    {
     "name": "stdout",
     "output_type": "stream",
     "text": [
      "5\n",
      "5\n"
     ]
    }
   ],
   "source": [
    "s = 'Jack and Jill'\n",
    "\n",
    "s1 = 'and'\n",
    "\n",
    "if s1 in s:\n",
    "    print(s.index(s1))\n",
    "\n",
    "print(s.index(s1))"
   ]
  },
  {
   "cell_type": "markdown",
   "id": "c13627d2",
   "metadata": {},
   "source": [
    "#### Q9. Which operators and built-in string methods produce simple Boolean (true/false) results?"
   ]
  },
  {
   "cell_type": "markdown",
   "id": "9dbe470d",
   "metadata": {},
   "source": [
    "- Operators:\n",
    "\n",
    "    - 1. Comparison operators : (== ,!= ,< ,> ,<=, >=) \n",
    "    - 2. Logical Operators : (and, or, not)\n",
    "    - 3. Identity Operators : (is , is not)\n",
    "    - 4. Membership Operators : (in, not in)\n",
    "    \n",
    "- String methods:\n",
    "\n",
    "    - 1. endswith() : Returns true if the string ends with the specified value \n",
    "    - 2. isalnum()\tReturns True if all characters in the string are alphanumeric        \n",
    "    - 3. isalpha()\tReturns True if all characters in the string are in the alphabet        \n",
    "    - 4. isdecimal()\tReturns True if all characters in the string are decimals       \n",
    "    - 5. isdigit()\tReturns True if all characters in the string are digits        \n",
    "    - 6. isidentifier()\tReturns True if the string is an identifier        \n",
    "    - 7. islower()\tReturns True if all characters in the string are lower case        \n",
    "    - 8. isnumeric()\tReturns True if all characters in the string are numeric        \n",
    "    - 9. isprintable()\tReturns True if all characters in the string are printable        \n",
    "    - 10. isspace()\tReturns True if all characters in the string are whitespaces        \n",
    "    - 11. istitle()\tReturns True if the string follows the rules of a title        \n",
    "    - 12. isupper()\tReturns True if all characters in the string are upper case"
   ]
  },
  {
   "cell_type": "code",
   "execution_count": null,
   "id": "9688cacb",
   "metadata": {},
   "outputs": [],
   "source": []
  }
 ],
 "metadata": {
  "kernelspec": {
   "display_name": "Python 3 (ipykernel)",
   "language": "python",
   "name": "python3"
  },
  "language_info": {
   "codemirror_mode": {
    "name": "ipython",
    "version": 3
   },
   "file_extension": ".py",
   "mimetype": "text/x-python",
   "name": "python",
   "nbconvert_exporter": "python",
   "pygments_lexer": "ipython3",
   "version": "3.10.5"
  }
 },
 "nbformat": 4,
 "nbformat_minor": 5
}
