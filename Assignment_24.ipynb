{
 "cells": [
  {
   "cell_type": "markdown",
   "id": "9b068213",
   "metadata": {},
   "source": [
    "#### Q1. Is it permissible to use several import statements to import the same module? What would the goal be? Can you think of a situation where it would be beneficial?"
   ]
  },
  {
   "cell_type": "markdown",
   "id": "6ecd1092",
   "metadata": {},
   "source": [
    "- Yes we can use more than one import statement to import the same module more than once.\n",
    "- This is come into action when suppose we want to import some other function or class from the base class of any module for example.\n",
    "    - from sklearn.preprocessing import LabelEncoder\n",
    "    - from sklearn.linear_model import LinearRegression"
   ]
  },
  {
   "cell_type": "markdown",
   "id": "21d85635",
   "metadata": {},
   "source": [
    "#### Q2. What are some of a module's characteristics? (Name at least one.)"
   ]
  },
  {
   "cell_type": "markdown",
   "id": "cae6af21",
   "metadata": {},
   "source": [
    "- name : It returns the name of the module. \n",
    "- doc : It denotes the documentation string line written in a module \n",
    "- file : It holds the name and path of the module file from which it is loaded .\n",
    "- dict : It return a dictionary object of module attributes, functions and other definitions and their respective values."
   ]
  },
  {
   "cell_type": "markdown",
   "id": "851cc27b",
   "metadata": {},
   "source": [
    "#### Q3. Circular importing, such as when two modules import each other, can lead to dependencies and bugs that aren't visible. How can you go about creating a program that avoids mutual importing?"
   ]
  },
  {
   "cell_type": "markdown",
   "id": "d075f557",
   "metadata": {},
   "source": [
    "- Circular importing means importing the two modules in each other. \n",
    "- If suppose we are wokring in MOD1.py file and it is importing some function say F2() from some other module say MOD2.PY file or we can do vice-versa. \n",
    "- What will happen is: This will give an import error. \n",
    "- This is because when we import F2() function from module MOD2.py, \n",
    "- then this will execute MOD2.py file. And in MOD2.py file there is an another statement of importing MOD1.py module.\n",
    "- This will result in endless loop.\n",
    "- To avoid this error just do one thing- We can use if  name == 'main'.\n",
    "- In the function, you can't directly refer to the function in the program. The addition of this sentence avoids the endless loop of the program."
   ]
  },
  {
   "cell_type": "markdown",
   "id": "5f3c4a3d",
   "metadata": {},
   "source": [
    "#### Q4. Why is _ all _ in Python?"
   ]
  },
  {
   "cell_type": "markdown",
   "id": "d211c66e",
   "metadata": {},
   "source": [
    "- It specifies all the modules present in the particular library and those can be called when we use import *"
   ]
  },
  {
   "cell_type": "markdown",
   "id": "9ebbf828",
   "metadata": {},
   "source": [
    "#### Q5. In what situation is it useful to refer to the _ name _ attribute or the string '_ main _'?"
   ]
  },
  {
   "cell_type": "markdown",
   "id": "2a523ade",
   "metadata": {},
   "source": [
    "- During the time of execution of the code if we want to refer the module in which we are working on then we uses name attribute. \n",
    "- In that case it will return the module in which we are working on.\n",
    "- Suppose if that moudle is being imported from some other module then name will have the name of that moudle from where the current module has been imported.\n",
    "- The current module in which we are working is refer to the string '_ main _'."
   ]
  },
  {
   "cell_type": "markdown",
   "id": "db949e19",
   "metadata": {},
   "source": [
    "#### Q6. What are some of the benefits of attaching a program counter to the RPN interpreter application, which interprets an RPN script line by line?"
   ]
  },
  {
   "cell_type": "markdown",
   "id": "5cad8c9b",
   "metadata": {},
   "source": [
    "- RPN saves time and keystrokes.\n",
    "- You avoid using and keeping track of parentheses while doing calculations. \n",
    "- The process is similar to the way you learned math on paper.\n",
    "- You can see the intermediary results as you perform your computations rather than just the answer at the end."
   ]
  },
  {
   "cell_type": "markdown",
   "id": "cb555e5c",
   "metadata": {},
   "source": [
    "#### Q7. What are the minimum expressions or statements (or both) that you'd need to render a basic programming language like RPN primitive but complete— that is, capable of carrying out any computerised task theoretically possible?"
   ]
  },
  {
   "cell_type": "markdown",
   "id": "59588287",
   "metadata": {},
   "source": [
    "- Notations  : +-/*\n",
    "- These are the basic notations we require to carry out a computerised task , like RPN Primitive.\n",
    "- We also need a particular data structure for storing elements from a statements except operators"
   ]
  },
  {
   "cell_type": "code",
   "execution_count": null,
   "id": "42eb4b4e",
   "metadata": {},
   "outputs": [],
   "source": []
  }
 ],
 "metadata": {
  "kernelspec": {
   "display_name": "Python 3 (ipykernel)",
   "language": "python",
   "name": "python3"
  },
  "language_info": {
   "codemirror_mode": {
    "name": "ipython",
    "version": 3
   },
   "file_extension": ".py",
   "mimetype": "text/x-python",
   "name": "python",
   "nbconvert_exporter": "python",
   "pygments_lexer": "ipython3",
   "version": "3.10.5"
  }
 },
 "nbformat": 4,
 "nbformat_minor": 5
}
