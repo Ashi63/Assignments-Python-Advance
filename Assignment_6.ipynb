{
 "cells": [
  {
   "cell_type": "markdown",
   "id": "59ee69a1",
   "metadata": {},
   "source": [
    "#### Q1. Describe three applications for exception processing."
   ]
  },
  {
   "cell_type": "markdown",
   "id": "feef6a97",
   "metadata": {},
   "source": [
    "- Exceptions are raised when the program is syntactically correct, but the code resulted in an error.\n",
    "- This error does not stop the execution of the program, however, it changes the normal flow of the program."
   ]
  },
  {
   "cell_type": "code",
   "execution_count": 5,
   "id": "06400ff8",
   "metadata": {},
   "outputs": [
    {
     "name": "stdout",
     "output_type": "stream",
     "text": [
      "division by zero\n"
     ]
    }
   ],
   "source": [
    "def div(a,b):\n",
    "    try:\n",
    "        c = a/b\n",
    "        print(c)\n",
    "    except Exception as e:\n",
    "        return e\n",
    "    else:\n",
    "        return \"Code run in try without any exception\"\n",
    "a = 3\n",
    "b = 0\n",
    "print(div(a,b))\n",
    "\n",
    "# programes continues to run error is caught by except."
   ]
  },
  {
   "cell_type": "code",
   "execution_count": 6,
   "id": "0a11f4cb",
   "metadata": {},
   "outputs": [
    {
     "data": {
      "text/plain": [
       "TypeError(\"unsupported operand type(s) for +: 'int' and 'str'\")"
      ]
     },
     "execution_count": 6,
     "metadata": {},
     "output_type": "execute_result"
    }
   ],
   "source": [
    "def con(a,b):\n",
    "    try:\n",
    "        c = a+b\n",
    "    except Exception as e:\n",
    "        return e\n",
    "    else:\n",
    "        return \"No error occured\"\n",
    "a = 1\n",
    "b = 'a'\n",
    "con(a,b)"
   ]
  },
  {
   "cell_type": "code",
   "execution_count": 13,
   "id": "ecde9e48",
   "metadata": {},
   "outputs": [
    {
     "data": {
      "text/plain": [
       "NameError(\"name 'd' is not defined\")"
      ]
     },
     "execution_count": 13,
     "metadata": {},
     "output_type": "execute_result"
    }
   ],
   "source": [
    "def comp(a,b): \n",
    "    try:\n",
    "        if a == d:\n",
    "            print(\"Both are Same\")\n",
    "    except Exception as e:\n",
    "        return e\n",
    "    else:\n",
    "        return \"No error\"\n",
    "comp('a','b')"
   ]
  },
  {
   "cell_type": "markdown",
   "id": "e955c9ba",
   "metadata": {},
   "source": [
    "#### Q2. What happens if you don't do something extra to treat an exception?"
   ]
  },
  {
   "cell_type": "markdown",
   "id": "0604fedc",
   "metadata": {},
   "source": [
    "- Whenever an exception occurs, the program stops the execution, and thus the further code is not executed. \n",
    "- Therefore, an exception is the run-time errors that are unable to handle to Python script. \n",
    "- An exception is a Python object that represents an error."
   ]
  },
  {
   "cell_type": "markdown",
   "id": "7ba8ad1b",
   "metadata": {},
   "source": [
    "#### Q3. What are your options for recovering from an exception in your script?"
   ]
  },
  {
   "cell_type": "markdown",
   "id": "ab3a36c9",
   "metadata": {},
   "source": [
    "- In except block, we write a code to handle exception and next set of actions."
   ]
  },
  {
   "cell_type": "code",
   "execution_count": 14,
   "id": "027fc341",
   "metadata": {},
   "outputs": [
    {
     "name": "stdout",
     "output_type": "stream",
     "text": [
      "Enter an integer value::as\n",
      "invalid literal for int() with base 10: 'as'\n",
      "Please enter an integer value\n",
      "Yayy i always executes!!\n",
      "Enter an integer value::6\n",
      "Yes you have entered an integer 6\n",
      "Yayy i always executes!!\n"
     ]
    }
   ],
   "source": [
    "def askint():\n",
    "    while True:\n",
    "        try:\n",
    "            a = int(input('Enter an integer value::'))\n",
    "        except Exception as e:\n",
    "            print(e)\n",
    "            print('Please enter an integer value')\n",
    "            continue\n",
    "        else:\n",
    "            print(f'Yes you have entered an integer {a}')\n",
    "            break\n",
    "        finally:\n",
    "            print('Yayy i always executes!!')\n",
    "        \n",
    "askint() "
   ]
  },
  {
   "cell_type": "markdown",
   "id": "edc19151",
   "metadata": {},
   "source": [
    "#### Q4. Describe two methods for triggering exceptions in your script?"
   ]
  },
  {
   "cell_type": "markdown",
   "id": "95b1fc1e",
   "metadata": {},
   "source": [
    "- Try statement – This method throws the exceptions when the code within try is executed.\n",
    "\n",
    "- Raise – Triggers an exception manually using custom exceptions.\n",
    "\n",
    "- Examples are already explained above."
   ]
  },
  {
   "cell_type": "markdown",
   "id": "d8d33930",
   "metadata": {},
   "source": [
    "#### Q5. Identify two methods for specifying actions to be executed at termination time, regardless of whether or not an exception exists."
   ]
  },
  {
   "cell_type": "markdown",
   "id": "21bd1ff0",
   "metadata": {},
   "source": [
    "- In else block, code is written to handle if no exception is raised by code in try block.\n",
    "\n",
    "- In finally block, code executes regardless of whether or not an exception exists."
   ]
  },
  {
   "cell_type": "code",
   "execution_count": null,
   "id": "ada38a5f",
   "metadata": {},
   "outputs": [],
   "source": []
  }
 ],
 "metadata": {
  "kernelspec": {
   "display_name": "Python 3 (ipykernel)",
   "language": "python",
   "name": "python3"
  },
  "language_info": {
   "codemirror_mode": {
    "name": "ipython",
    "version": 3
   },
   "file_extension": ".py",
   "mimetype": "text/x-python",
   "name": "python",
   "nbconvert_exporter": "python",
   "pygments_lexer": "ipython3",
   "version": "3.10.5"
  }
 },
 "nbformat": 4,
 "nbformat_minor": 5
}
