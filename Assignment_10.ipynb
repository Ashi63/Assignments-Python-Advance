{
 "cells": [
  {
   "cell_type": "markdown",
   "id": "ae558b8b",
   "metadata": {},
   "source": [
    "#### Q1. What is the difference between getattr and getattribute?"
   ]
  },
  {
   "cell_type": "markdown",
   "id": "a9c3d6df",
   "metadata": {},
   "source": [
    "- Normally, if we want to access the attribute of a class, we access it with instance of the class like instance.attribute_name. \n",
    "- These attributes are already present in the class.\n",
    "- Where as, to access the attribute of class which are not defined in the class, we use getattr() method.\n",
    "- But if the attribute does exist, getattr won’t be invoked.\n",
    "- getattribute will look for every attribute, doesn’t matter if the attribute exists or not."
   ]
  },
  {
   "cell_type": "code",
   "execution_count": 2,
   "id": "1d76e8ef",
   "metadata": {},
   "outputs": [
    {
     "name": "stdout",
     "output_type": "stream",
     "text": [
      "Banglore\n",
      "abcd\n"
     ]
    }
   ],
   "source": [
    "class Sample:\n",
    "    def __init__(self,address):\n",
    "        self.address = address\n",
    "    \n",
    "    def __getattr__(self,name):\n",
    "        return name.lower()\n",
    "    \n",
    "s =Sample('Banglore')\n",
    "print(s.address) # existing attribute\n",
    "print(s.ABCD) # ABCD is non defined in class"
   ]
  },
  {
   "cell_type": "markdown",
   "id": "10f67758",
   "metadata": {},
   "source": [
    "#### Q2. What is the difference between properties and descriptors?"
   ]
  },
  {
   "cell_type": "markdown",
   "id": "79fb810f",
   "metadata": {},
   "source": [
    "- In Properties, We can bind getter, setter functions with an attribute name, using the built-in property function.\n",
    "- In descriptor, We can bind getter, setter (and deleter) functions into a separate class.\n",
    "- We then assign an object of this class to the attribute name."
   ]
  },
  {
   "cell_type": "markdown",
   "id": "c16ee289",
   "metadata": {},
   "source": [
    "#### Q3. What are the key differences in functionality between getattr and getattribute, as well as properties and descriptors?"
   ]
  },
  {
   "cell_type": "markdown",
   "id": "53218ec0",
   "metadata": {},
   "source": [
    "- To access the attribute of class which are not defined in the class, we use getattr() method.\n",
    "- But if the attribute does exist, getattr won’t be invoked. \n",
    "- getattribute will look for every attribute, doesn’t matter if the attribute exists or not.\n",
    "\n",
    "- In Properties, We can bind getter, setter functions with an attribute name, using the built-in property function.\n",
    "- In descriptor, We can bind getter, setter (and deleter) functions into a separate class.\n",
    "- We then assign an object of this class to the attribute name."
   ]
  },
  {
   "cell_type": "code",
   "execution_count": null,
   "id": "9a200f72",
   "metadata": {},
   "outputs": [],
   "source": []
  }
 ],
 "metadata": {
  "kernelspec": {
   "display_name": "Python 3 (ipykernel)",
   "language": "python",
   "name": "python3"
  },
  "language_info": {
   "codemirror_mode": {
    "name": "ipython",
    "version": 3
   },
   "file_extension": ".py",
   "mimetype": "text/x-python",
   "name": "python",
   "nbconvert_exporter": "python",
   "pygments_lexer": "ipython3",
   "version": "3.10.5"
  }
 },
 "nbformat": 4,
 "nbformat_minor": 5
}
