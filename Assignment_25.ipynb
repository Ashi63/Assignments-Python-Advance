{
 "cells": [
  {
   "cell_type": "markdown",
   "id": "c9e1a74b",
   "metadata": {},
   "source": [
    "#### Q1. What is the distinction between a numpy array and a pandas data frame? Is there a way to convert between the two if there is?"
   ]
  },
  {
   "cell_type": "markdown",
   "id": "9fa5dada",
   "metadata": {},
   "source": [
    "- Numpy array: \n",
    "- This is in the form of matrix structure which have rows and columns.\n",
    "- It generally performs python mathematical operation which is not genrally easy manually to perfomr in coding case. \n",
    "- It may be of any dimensions like 1-d, 2-d, 3-d, 4-d, etc depend upon the use to requirement.\n",
    "- Unlike dataframe, numpy array are  not in a tabular form which have records and have fields instead it is in the form of matrices. \n",
    "- It can have single row and single column as well but dataframe poses more than one column. \n",
    "\n",
    "- DataFrame: \n",
    "- This is a kind of tabular structure format which are having more than one column. \n",
    "- Unlike numpy array which can have more single as well as many number of columns, but dataframe have more than one column.\n",
    "- Dataframe can have any number of dimensons but it should be more than one. \n",
    "- We can use numpy array operation  in dataframe and can also convert the numpy array into dataframe.\n"
   ]
  },
  {
   "cell_type": "code",
   "execution_count": 1,
   "id": "f614f981",
   "metadata": {},
   "outputs": [
    {
     "data": {
      "text/plain": [
       "array([[0, 1, 2, 3, 4],\n",
       "       [5, 6, 7, 8, 9]])"
      ]
     },
     "execution_count": 1,
     "metadata": {},
     "output_type": "execute_result"
    }
   ],
   "source": [
    "import pandas as pd\n",
    "import numpy as np\n",
    "array=np.arange(10).reshape(2,5)\n",
    "array"
   ]
  },
  {
   "cell_type": "code",
   "execution_count": 2,
   "id": "4e528a13",
   "metadata": {},
   "outputs": [
    {
     "data": {
      "text/html": [
       "<div>\n",
       "<style scoped>\n",
       "    .dataframe tbody tr th:only-of-type {\n",
       "        vertical-align: middle;\n",
       "    }\n",
       "\n",
       "    .dataframe tbody tr th {\n",
       "        vertical-align: top;\n",
       "    }\n",
       "\n",
       "    .dataframe thead th {\n",
       "        text-align: right;\n",
       "    }\n",
       "</style>\n",
       "<table border=\"1\" class=\"dataframe\">\n",
       "  <thead>\n",
       "    <tr style=\"text-align: right;\">\n",
       "      <th></th>\n",
       "      <th>0</th>\n",
       "      <th>1</th>\n",
       "      <th>2</th>\n",
       "      <th>3</th>\n",
       "      <th>4</th>\n",
       "    </tr>\n",
       "  </thead>\n",
       "  <tbody>\n",
       "    <tr>\n",
       "      <th>0</th>\n",
       "      <td>0</td>\n",
       "      <td>1</td>\n",
       "      <td>2</td>\n",
       "      <td>3</td>\n",
       "      <td>4</td>\n",
       "    </tr>\n",
       "    <tr>\n",
       "      <th>1</th>\n",
       "      <td>5</td>\n",
       "      <td>6</td>\n",
       "      <td>7</td>\n",
       "      <td>8</td>\n",
       "      <td>9</td>\n",
       "    </tr>\n",
       "  </tbody>\n",
       "</table>\n",
       "</div>"
      ],
      "text/plain": [
       "   0  1  2  3  4\n",
       "0  0  1  2  3  4\n",
       "1  5  6  7  8  9"
      ]
     },
     "execution_count": 2,
     "metadata": {},
     "output_type": "execute_result"
    }
   ],
   "source": [
    "df=pd.DataFrame(array)\n",
    "df"
   ]
  },
  {
   "cell_type": "code",
   "execution_count": 3,
   "id": "afc28c5d",
   "metadata": {},
   "outputs": [
    {
     "data": {
      "text/plain": [
       "array([[0, 1, 2, 3, 4],\n",
       "       [5, 6, 7, 8, 9]])"
      ]
     },
     "execution_count": 3,
     "metadata": {},
     "output_type": "execute_result"
    }
   ],
   "source": [
    "df.to_numpy()"
   ]
  },
  {
   "cell_type": "markdown",
   "id": "18de8d52",
   "metadata": {},
   "source": [
    "#### Q2. What can go wrong when an user enters in a stock-ticker symbol, and how do you handle it?"
   ]
  },
  {
   "cell_type": "markdown",
   "id": "e3019ede",
   "metadata": {},
   "source": [
    "-  A Ticker is a symbol, a unique combination of letters and numbers that represent a particular stock or security listed on an exchange."
   ]
  },
  {
   "cell_type": "markdown",
   "id": "86c60bfa",
   "metadata": {},
   "source": [
    "#### Q3. Identify some of the plotting techniques that are used to produce a stock-market chart.\n"
   ]
  },
  {
   "cell_type": "markdown",
   "id": "04f88a11",
   "metadata": {},
   "source": [
    "- Line Chart.\n",
    "- Point And Figure Chart\n",
    "- Candlestick Chart\n",
    "- Bar Chart."
   ]
  },
  {
   "cell_type": "markdown",
   "id": "5a0238a3",
   "metadata": {},
   "source": [
    "#### Q4. Why is it essential to print a legend on a stock market chart?"
   ]
  },
  {
   "cell_type": "markdown",
   "id": "94c0b660",
   "metadata": {},
   "source": [
    "- Legends adds a beauty to visualize the trend of data w.r.t. different features.\n",
    "- It creates the different trend in different colors indicating that which is belong to which trend is belong to which feature."
   ]
  },
  {
   "cell_type": "markdown",
   "id": "27dbdc3f",
   "metadata": {},
   "source": [
    "#### Q5. What is the best way to limit the length of a pandas data frame to less than a year?"
   ]
  },
  {
   "cell_type": "markdown",
   "id": "f50676b2",
   "metadata": {},
   "source": [
    "- We can use start and end parameters for that.\n",
    "- In start we write the date from where we are starting and at  the end we write the end date.\n",
    "- SO within this span we can restric the duration.\n",
    "- Also we can use the parameters  like periods for how much times we need the duration and we can also use the frequency parameter."
   ]
  },
  {
   "cell_type": "markdown",
   "id": "9a4644a8",
   "metadata": {},
   "source": [
    "#### Q6. What is the definition of a 180-day moving average?"
   ]
  },
  {
   "cell_type": "markdown",
   "id": "f0336bb0",
   "metadata": {},
   "source": [
    "- Moving Averages help to filter out market noise and smooth out fluctuations in price.\n",
    "- In statistics, a moving average is a calculation used to analyze data points by creating a series of averages of different subsets of the full data set. \n",
    "- 180-day moving average means A simple moving average (SMA) is a arithmetic mean of a given set of prices over the 180 days in the past."
   ]
  },
  {
   "cell_type": "code",
   "execution_count": null,
   "id": "6f51d7eb",
   "metadata": {},
   "outputs": [],
   "source": []
  }
 ],
 "metadata": {
  "kernelspec": {
   "display_name": "Python 3 (ipykernel)",
   "language": "python",
   "name": "python3"
  },
  "language_info": {
   "codemirror_mode": {
    "name": "ipython",
    "version": 3
   },
   "file_extension": ".py",
   "mimetype": "text/x-python",
   "name": "python",
   "nbconvert_exporter": "python",
   "pygments_lexer": "ipython3",
   "version": "3.10.5"
  }
 },
 "nbformat": 4,
 "nbformat_minor": 5
}
