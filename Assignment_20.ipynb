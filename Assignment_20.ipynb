{
 "cells": [
  {
   "cell_type": "markdown",
   "id": "a1b5e0de",
   "metadata": {},
   "source": [
    "#### 1. Compare and contrast the float and Decimal classes' benefits and drawbacks."
   ]
  },
  {
   "cell_type": "markdown",
   "id": "7b5a9396",
   "metadata": {},
   "source": [
    "- Float objects like this one are always represented internally up to a certain degree of accuracy only.\n",
    "- The reason for this is that floats are internally represented in binary format; that is, a decimal number 0 < n < 1 is represented by a series of the form . \n",
    "- For certain floating-point numbers the binary representation might involve a large number of elements or might even be an infinite series. \n",
    "- However, given a fixed number of bits used to represent such a number—i.e., a fixed number of terms in the representation series—inaccuracies are the consequence.\n",
    "- Other numbers can be represented perfectly and are therefore stored exactly even with a finite number of bits available."
   ]
  },
  {
   "cell_type": "markdown",
   "id": "34f04df8",
   "metadata": {},
   "source": [
    "- The precision can in this way be adjusted to the exact problem at hand and one can operate with floating-point objects that exhibit different degrees of accuracy."
   ]
  },
  {
   "cell_type": "markdown",
   "id": "6ad2ab01",
   "metadata": {},
   "source": [
    "#### 2. Decimal('1.200') and Decimal('1.2') are two objects to consider. In what sense are these the same object? Are these just two ways of representing the exact same value, or do they correspond to different internal states?"
   ]
  },
  {
   "cell_type": "markdown",
   "id": "f560ae03",
   "metadata": {},
   "source": [
    "- Though they are identical value wise, internal representation or internal state of these two values are different, as they have decimal values of different precisions. \n"
   ]
  },
  {
   "cell_type": "markdown",
   "id": "0ea5e1a5",
   "metadata": {},
   "source": [
    "#### 3. What happens if the equality of Decimal('1.200') and Decimal('1.2') is checked?"
   ]
  },
  {
   "cell_type": "markdown",
   "id": "307833ad",
   "metadata": {},
   "source": [
    " - It returns that the values are stored are True."
   ]
  },
  {
   "cell_type": "markdown",
   "id": "dd5b0126",
   "metadata": {},
   "source": [
    "#### 4. Why is it preferable to start a Decimal object with a string rather than a floating-point value?"
   ]
  },
  {
   "cell_type": "markdown",
   "id": "2569e312",
   "metadata": {},
   "source": [
    "- Floating-point value is converted to Decimal format. \n",
    "- Decimal can store float value with absolute precision.\n",
    "- But when float value is given as Decimal object,it first has to be converted from  floating point value which might already have rounding error.\n",
    "- Hence it is preferable to start a Decimal object with a string.\n",
    " "
   ]
  },
  {
   "cell_type": "markdown",
   "id": "3de54300",
   "metadata": {},
   "source": [
    "#### 5. In an arithmetic phrase, how simple is it to combine Decimal objects with integers?"
   ]
  },
  {
   "cell_type": "code",
   "execution_count": null,
   "id": "6820705b",
   "metadata": {},
   "outputs": [],
   "source": [
    "import decimal\n",
    "from decimal import Decimal\n",
    "val=2\n",
    "print(type(val))\n",
    "a=Decimal(val)\n",
    "print(a)\n",
    "b=a*Decimal(val)\n",
    "print(b)"
   ]
  },
  {
   "cell_type": "markdown",
   "id": "ea861bc5",
   "metadata": {},
   "source": [
    "#### 6. Can Decimal objects and floating-point values be combined easily?"
   ]
  },
  {
   "cell_type": "markdown",
   "id": "1c5dd0e4",
   "metadata": {},
   "source": [
    "- Arithmetic operations like Adding,subtracting or multiplying a Decimal object by a floating-point value is generates an error. - To do these operations, the floating point has to be converted to a Decimal object—for example, converting from a floating-point value and then rounding.\n",
    "- Else, arithmetic operations between the two types cause runtime errors."
   ]
  },
  {
   "cell_type": "markdown",
   "id": "9b3fc6cb",
   "metadata": {},
   "source": [
    "#### 7. Using the Fraction class but not the Decimal class, give an example of a quantity that can be expressed with absolute precision."
   ]
  },
  {
   "cell_type": "code",
   "execution_count": 2,
   "id": "ebfbea91",
   "metadata": {},
   "outputs": [
    {
     "name": "stdout",
     "output_type": "stream",
     "text": [
      "1/2\n"
     ]
    }
   ],
   "source": [
    "from fractions import Fraction\n",
    "val=0.5\n",
    "fr=Fraction(val)\n",
    "print(fr)"
   ]
  },
  {
   "cell_type": "markdown",
   "id": "8fe31bca",
   "metadata": {},
   "source": [
    "#### 8. Describe a quantity that can be accurately expressed by the Decimal or Fraction classes but not by a floating-point value."
   ]
  },
  {
   "cell_type": "code",
   "execution_count": null,
   "id": "71f3d27d",
   "metadata": {},
   "outputs": [],
   "source": [
    "d=Decimal('0.1') * Decimal('0.1')\n",
    "print(\"decimal=\",d)\n",
    "frac=Fraction('1/10') * Fraction('1/10')\n",
    "print(\"fraction=\",frac)\n",
    "fl=0.1*0.1\n",
    "print(\"float value=\",fl)"
   ]
  },
  {
   "cell_type": "markdown",
   "id": "1b207608",
   "metadata": {},
   "source": [
    "#### Q9.Consider the following two fraction objects: Fraction(1, 2) and Fraction(1, 2). (5, 10). Is the internal state of these two objects the same? Why do you think that is?"
   ]
  },
  {
   "cell_type": "code",
   "execution_count": 3,
   "id": "26a39f52",
   "metadata": {},
   "outputs": [
    {
     "name": "stdout",
     "output_type": "stream",
     "text": [
      "1/2\n",
      "1/2\n",
      "Fraction (1,2) and Fraction(5,10) are equal\n"
     ]
    }
   ],
   "source": [
    "from fractions import Fraction\n",
    "frac1=Fraction(1, 2)\n",
    "print(frac1)\n",
    "frac2=Fraction(5, 10)\n",
    "print(frac2)\n",
    "if (frac1 == frac2 ):\n",
    "    print('Fraction (1,2) and Fraction(5,10) are equal')"
   ]
  },
  {
   "cell_type": "markdown",
   "id": "de217b6c",
   "metadata": {},
   "source": [
    "- The internal state of both are same as Fraction(5,10) is reduced to simplest form. \n",
    "- Hence 1/2 is printed in both the cases."
   ]
  },
  {
   "cell_type": "markdown",
   "id": "3aa3bfc3",
   "metadata": {},
   "source": [
    "#### Q10. How do the Fraction class and the integer type (int) relate to each other? Containment or inheritance?"
   ]
  },
  {
   "cell_type": "markdown",
   "id": "6ec119d5",
   "metadata": {},
   "source": [
    "- Fraction class and integer type(int) are related in form of a container.\n",
    "- It contains two ints, one the numerator and the other the denominator.\n"
   ]
  },
  {
   "cell_type": "code",
   "execution_count": 4,
   "id": "9d140638",
   "metadata": {},
   "outputs": [
    {
     "name": "stdout",
     "output_type": "stream",
     "text": [
      "numerator is 1 <class 'int'>\n",
      "denominator is 2 <class 'int'>\n"
     ]
    }
   ],
   "source": [
    "from fractions import Fraction\n",
    "\n",
    "frac = Fraction(1,2)\n",
    "print('numerator is', frac.numerator,type(frac.numerator))\n",
    "print('denominator is', frac.denominator,type(frac.numerator) )"
   ]
  },
  {
   "cell_type": "code",
   "execution_count": null,
   "id": "06b827be",
   "metadata": {},
   "outputs": [],
   "source": []
  }
 ],
 "metadata": {
  "kernelspec": {
   "display_name": "Python 3 (ipykernel)",
   "language": "python",
   "name": "python3"
  },
  "language_info": {
   "codemirror_mode": {
    "name": "ipython",
    "version": 3
   },
   "file_extension": ".py",
   "mimetype": "text/x-python",
   "name": "python",
   "nbconvert_exporter": "python",
   "pygments_lexer": "ipython3",
   "version": "3.10.5"
  }
 },
 "nbformat": 4,
 "nbformat_minor": 5
}
