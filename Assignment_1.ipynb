{
 "cells": [
  {
   "cell_type": "markdown",
   "id": "3820f442",
   "metadata": {},
   "source": [
    "#### Q1. What is the purpose of Python's OOP?"
   ]
  },
  {
   "cell_type": "markdown",
   "id": "8561653d",
   "metadata": {},
   "source": [
    "- Object-oriented programming (OOP) is a way of thinking about and organizing code for maximum reusability.\n",
    "- With this type of programming, a program comprises objects that can interact with the user, other objects, or other programs. - This makes programs more efficient and easier to understand."
   ]
  },
  {
   "cell_type": "markdown",
   "id": "4422dc09",
   "metadata": {},
   "source": [
    "#### Q2. Where does an inheritance search look for an attribute?"
   ]
  },
  {
   "cell_type": "markdown",
   "id": "1e072a5c",
   "metadata": {},
   "source": [
    "- An inheritance search looks for an attribute first in the instance object, then in the class the instance was created from, then in all higher superclasses, progressing from left to right (by default). \n",
    "- The search stops at the first place the attribute is found."
   ]
  },
  {
   "cell_type": "code",
   "execution_count": null,
   "id": "ddc73efd",
   "metadata": {},
   "outputs": [],
   "source": []
  },
  {
   "cell_type": "markdown",
   "id": "fb4ccdad",
   "metadata": {},
   "source": [
    "#### Q3. How do you distinguish between a class object and an instance object?"
   ]
  },
  {
   "cell_type": "markdown",
   "id": "f4d4d755",
   "metadata": {},
   "source": [
    "- Class is the blue print to create objects.\n",
    "- Instance object is a object that belongs to a class."
   ]
  },
  {
   "cell_type": "markdown",
   "id": "0599e51a",
   "metadata": {},
   "source": [
    "#### Q4. What makes the first argument in a class’s method function special?"
   ]
  },
  {
   "cell_type": "markdown",
   "id": "0f0b61a4",
   "metadata": {},
   "source": [
    "- First argument in a class's method is \"self\".\n",
    "- Writing this parameter as self is merely a convention. \n",
    "- It is not a keyword and has no special meaning in Python.\n",
    "- We could use other names (like this) but it is highly discouraged. \n",
    "- Using names other than self is frowned upon by most developers and degrades the readability of the code (Readability counts)."
   ]
  },
  {
   "cell_type": "markdown",
   "id": "09a21500",
   "metadata": {},
   "source": [
    "#### Q5. What is the purpose of the __init__ method?"
   ]
  },
  {
   "cell_type": "markdown",
   "id": "e30b05b6",
   "metadata": {},
   "source": [
    "- In an object-oriented approach, the __init__ method is the Python equivalent of the C++ constructor. \n",
    "- Every time an object is created from a class, the __init__function is called. \n",
    "- The __init__ method only allows the class to initialize the object's attributes. It is only used within classes."
   ]
  },
  {
   "cell_type": "markdown",
   "id": "1ca34649",
   "metadata": {},
   "source": [
    "#### Q6. What is the process for creating a class instance?"
   ]
  },
  {
   "cell_type": "markdown",
   "id": "64492e57",
   "metadata": {},
   "source": [
    "- To create instances of a class, you call the class using class name and pass in whatever arguments its __init__ method accepts."
   ]
  },
  {
   "cell_type": "code",
   "execution_count": 4,
   "id": "454b3264",
   "metadata": {},
   "outputs": [],
   "source": [
    "class Cars:\n",
    "    def __init__(self,model):\n",
    "        self.model = model\n",
    "        \n",
    "car1 = Cars(\"Suzuki\")"
   ]
  },
  {
   "cell_type": "markdown",
   "id": "0645c5d4",
   "metadata": {},
   "source": [
    "#### Q7. What is the process for creating a class?"
   ]
  },
  {
   "cell_type": "markdown",
   "id": "792981b7",
   "metadata": {},
   "source": [
    "- To create a class, use the keyword class:"
   ]
  },
  {
   "cell_type": "code",
   "execution_count": null,
   "id": "bcc3a54e",
   "metadata": {},
   "outputs": [],
   "source": [
    "class Cars:\n",
    "    def __init__(self,model):\n",
    "        self.model = model"
   ]
  },
  {
   "cell_type": "markdown",
   "id": "158ce027",
   "metadata": {},
   "source": [
    "#### Q8. How would you define the superclasses of a class?"
   ]
  },
  {
   "cell_type": "markdown",
   "id": "0db48616",
   "metadata": {},
   "source": [
    "- The class from which a class inherits is called the parent or superclass.\n",
    "- A class which inherits from a superclass is called a subclass, also called heir class or child class.\n",
    "- Superclasses are sometimes called ancestors as well."
   ]
  },
  {
   "cell_type": "code",
   "execution_count": 5,
   "id": "646b6e5a",
   "metadata": {},
   "outputs": [
    {
     "name": "stdout",
     "output_type": "stream",
     "text": [
      "<__main__.Robot object at 0x0000021C7A425DB0> <class '__main__.Robot'>\n",
      "<__main__.PhysicianRobot object at 0x0000021C7A426B30> <class '__main__.PhysicianRobot'>\n",
      "Hi, I am James\n"
     ]
    }
   ],
   "source": [
    "class Robot:\n",
    "    def __init__(self, name):\n",
    "        self.name = name\n",
    "    def say_hi(self):\n",
    "        print(\"Hi, I am \" + self.name)\n",
    "class PhysicianRobot(Robot):\n",
    "    pass\n",
    "x = Robot(\"Marvin\")\n",
    "y = PhysicianRobot(\"James\")\n",
    "print(x, type(x))\n",
    "print(y, type(y))\n",
    "y.say_hi()"
   ]
  },
  {
   "cell_type": "markdown",
   "id": "6947edaf",
   "metadata": {},
   "source": [
    "- Here Robot is the super class."
   ]
  },
  {
   "cell_type": "code",
   "execution_count": null,
   "id": "b1226c83",
   "metadata": {},
   "outputs": [],
   "source": []
  }
 ],
 "metadata": {
  "kernelspec": {
   "display_name": "Python 3 (ipykernel)",
   "language": "python",
   "name": "python3"
  },
  "language_info": {
   "codemirror_mode": {
    "name": "ipython",
    "version": 3
   },
   "file_extension": ".py",
   "mimetype": "text/x-python",
   "name": "python",
   "nbconvert_exporter": "python",
   "pygments_lexer": "ipython3",
   "version": "3.10.5"
  }
 },
 "nbformat": 4,
 "nbformat_minor": 5
}
