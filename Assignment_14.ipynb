{
 "cells": [
  {
   "cell_type": "markdown",
   "id": "0a372c89",
   "metadata": {},
   "source": [
    "#### Q1. Is an assignment operator like += only for show? Is it possible that it would lead to faster results at the runtime?"
   ]
  },
  {
   "cell_type": "markdown",
   "id": "c40281e1",
   "metadata": {},
   "source": [
    "- += is fatser and easy to write for us. \n",
    "- runtime of a += 5 is slightly less than a = a + 5 but, the difference is really minor."
   ]
  },
  {
   "cell_type": "code",
   "execution_count": 8,
   "id": "b1731495",
   "metadata": {},
   "outputs": [
    {
     "name": "stdout",
     "output_type": "stream",
     "text": [
      "11\n",
      "11\n"
     ]
    }
   ],
   "source": [
    "import time\n",
    "\n",
    "a =10\n",
    "a +=1\n",
    "print(a)\n",
    "\n",
    "b=10\n",
    "b = b + 1\n",
    "print(b)"
   ]
  },
  {
   "cell_type": "markdown",
   "id": "a2e617f5",
   "metadata": {},
   "source": [
    "#### Q2. What is the smallest number of statements you'd have to write in most programming languages to replace the Python expression a, b = a + b, a?"
   ]
  },
  {
   "cell_type": "markdown",
   "id": "d6cffd0e",
   "metadata": {},
   "source": [
    "- 2"
   ]
  },
  {
   "cell_type": "markdown",
   "id": "57e39122",
   "metadata": {},
   "source": [
    "#### Q3. In Python, what is the most effective way to set a list of 100 integers to 0?"
   ]
  },
  {
   "cell_type": "code",
   "execution_count": 11,
   "id": "bb32ee12",
   "metadata": {},
   "outputs": [
    {
     "name": "stdout",
     "output_type": "stream",
     "text": [
      "[0, 0, 0, 0, 0, 0, 0, 0, 0, 0, 0, 0, 0, 0, 0, 0, 0, 0, 0, 0, 0, 0, 0, 0, 0, 0, 0, 0, 0, 0, 0, 0, 0, 0, 0, 0, 0, 0, 0, 0, 0, 0, 0, 0, 0, 0, 0, 0, 0, 0, 0, 0, 0, 0, 0, 0, 0, 0, 0, 0, 0, 0, 0, 0, 0, 0, 0, 0, 0, 0, 0, 0, 0, 0, 0, 0, 0, 0, 0, 0, 0, 0, 0, 0, 0, 0, 0, 0, 0, 0, 0, 0, 0, 0, 0, 0, 0, 0, 0, 0]\n"
     ]
    }
   ],
   "source": [
    " l  = [0]* 100\n",
    "print(l)\n",
    "    "
   ]
  },
  {
   "cell_type": "markdown",
   "id": "1322d4d4",
   "metadata": {},
   "source": [
    "#### Q4. What is the most effective way to initialise a list of 99 integers that repeats the sequence 1, 2, 3? S If necessary, show step-by-step instructions on how to accomplish this."
   ]
  },
  {
   "cell_type": "code",
   "execution_count": 18,
   "id": "753ec805",
   "metadata": {},
   "outputs": [
    {
     "name": "stdout",
     "output_type": "stream",
     "text": [
      "[1, 2, 3, 1, 2, 3, 1, 2, 3, 1, 2, 3, 1, 2, 3, 1, 2, 3, 1, 2, 3, 1, 2, 3, 1, 2, 3, 1, 2, 3, 1, 2, 3, 1, 2, 3, 1, 2, 3, 1, 2, 3, 1, 2, 3, 1, 2, 3, 1, 2, 3, 1, 2, 3, 1, 2, 3, 1, 2, 3, 1, 2, 3, 1, 2, 3, 1, 2, 3, 1, 2, 3, 1, 2, 3, 1, 2, 3, 1, 2, 3, 1, 2, 3, 1, 2, 3, 1, 2, 3, 1, 2, 3, 1, 2, 3, 1, 2, 3]\n",
      "99\n"
     ]
    }
   ],
   "source": [
    "l1 =[1,2,3]*int(99/3)\n",
    "\n",
    "print(l1)\n",
    "print(len(l1))"
   ]
  },
  {
   "cell_type": "markdown",
   "id": "949daaed",
   "metadata": {},
   "source": [
    "#### Q5. If you're using IDLE to run a Python application, explain how to print a multidimensional list as efficiently?"
   ]
  },
  {
   "cell_type": "code",
   "execution_count": 19,
   "id": "dc3e2413",
   "metadata": {},
   "outputs": [
    {
     "data": {
      "text/plain": [
       "[[1, 2, 3, 4], ['A', 'B'], [5, 6, 7, 8]]"
      ]
     },
     "execution_count": 19,
     "metadata": {},
     "output_type": "execute_result"
    }
   ],
   "source": [
    "l = [[1,2,3,4],['A','B'],[5,6,7,8]]\n",
    "\n",
    "l"
   ]
  },
  {
   "cell_type": "markdown",
   "id": "1f9fa132",
   "metadata": {},
   "source": [
    "#### Q6. Is it possible to use list comprehension with a string? If so, how can you go about doing it?"
   ]
  },
  {
   "cell_type": "code",
   "execution_count": 20,
   "id": "cb627728",
   "metadata": {},
   "outputs": [
    {
     "data": {
      "text/plain": [
       "['ii', 'NN', 'ee', 'uu', 'rr', 'oo', 'nn']"
      ]
     },
     "execution_count": 20,
     "metadata": {},
     "output_type": "execute_result"
    }
   ],
   "source": [
    "s = 'iNeuron'\n",
    "\n",
    "[i*2 for i in s]"
   ]
  },
  {
   "cell_type": "markdown",
   "id": "1222ab49",
   "metadata": {},
   "source": [
    "#### Q7. From the command line, how do you get support with a user-written Python programme? Is this possible from inside IDLE?"
   ]
  },
  {
   "cell_type": "markdown",
   "id": "31fb4b8f",
   "metadata": {},
   "source": [
    "- Steps for command line:\n",
    "\n",
    "    1. Open command prompt.\n",
    "    2. Go to the directory containing python program file(.py)\n",
    "    3. Type \"python file_name.py\", press enter to run the file.\n",
    "    \n",
    "\n",
    "- Steps for python IDLE:\n",
    "\n",
    "    1. Open python IDLE.\n",
    "    2. Click on file>open>file_name.py\n",
    "    3. Press F5 key to run the program."
   ]
  },
  {
   "cell_type": "markdown",
   "id": "9f57f031",
   "metadata": {},
   "source": [
    "#### Q8. Functions are said to be “first-class objects” in Python but not in most other languages, such as C++ or Java. What can you do in Python with a function (callable object) that you can't do in C or C++?"
   ]
  },
  {
   "cell_type": "markdown",
   "id": "bda8289d",
   "metadata": {},
   "source": [
    "- In Python, functions are like any other object, such as an int or a list.\n",
    "- That means that you can use functions as arguments to other functions, store functions as dictionary values, or return a function from another function. \n",
    "- This leads to many powerful ways to use functions."
   ]
  },
  {
   "cell_type": "markdown",
   "id": "e7d37d30",
   "metadata": {},
   "source": [
    "#### Q9. How do you distinguish between a wrapper, a wrapped feature, and a decorator?"
   ]
  },
  {
   "cell_type": "markdown",
   "id": "426138e4",
   "metadata": {},
   "source": [
    "- A wrapper, a wrapped feature, and a decorator are all same.\n",
    "- They can be thought of as functions which modify the functionality of another function.\n",
    "- They help to make your code shorter and more \"Pythonic\"."
   ]
  },
  {
   "cell_type": "markdown",
   "id": "f8b51bb2",
   "metadata": {},
   "source": [
    "#### Q10. If a function is a generator function, what does it return?"
   ]
  },
  {
   "cell_type": "markdown",
   "id": "a81e3e70",
   "metadata": {},
   "source": [
    "- If a function is a generator function, it does not return any values, instead, it return an iterator object, which we can iterate through to get values."
   ]
  },
  {
   "cell_type": "markdown",
   "id": "14d9f0d6",
   "metadata": {},
   "source": [
    "#### Q11. What is the one improvement that must be made to a function in order for it to become a generator function in the Python language?"
   ]
  },
  {
   "cell_type": "markdown",
   "id": "3e345bed",
   "metadata": {},
   "source": [
    "- We can use \"yield\" keyword instead of \"return\" to make function a generator function."
   ]
  },
  {
   "cell_type": "code",
   "execution_count": 21,
   "id": "0aedc7c5",
   "metadata": {},
   "outputs": [
    {
     "name": "stdout",
     "output_type": "stream",
     "text": [
      "0\n",
      "2\n",
      "4\n",
      "6\n",
      "8\n"
     ]
    }
   ],
   "source": [
    "def even_nos(n):\n",
    "    for i in range(n):\n",
    "        if i % 2 == 0:\n",
    "            yield i\n",
    "\n",
    "for i in even_nos(10):\n",
    "    print(i)"
   ]
  },
  {
   "cell_type": "markdown",
   "id": "610a62dd",
   "metadata": {},
   "source": [
    "#### Q12. Identify at least one benefit of generators."
   ]
  },
  {
   "cell_type": "markdown",
   "id": "03c0c039",
   "metadata": {},
   "source": [
    "- The main advantage here is that instead of having to compute an entire series of values up front, the generator computes one value and then suspends its activity awaiting the next instruction. This feature is known as state suspension.\n",
    "\n",
    "- Generators are memory efficient."
   ]
  },
  {
   "cell_type": "code",
   "execution_count": null,
   "id": "e083f3cf",
   "metadata": {},
   "outputs": [],
   "source": []
  }
 ],
 "metadata": {
  "kernelspec": {
   "display_name": "Python 3 (ipykernel)",
   "language": "python",
   "name": "python3"
  },
  "language_info": {
   "codemirror_mode": {
    "name": "ipython",
    "version": 3
   },
   "file_extension": ".py",
   "mimetype": "text/x-python",
   "name": "python",
   "nbconvert_exporter": "python",
   "pygments_lexer": "ipython3",
   "version": "3.10.5"
  }
 },
 "nbformat": 4,
 "nbformat_minor": 5
}
