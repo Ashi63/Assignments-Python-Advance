{
 "cells": [
  {
   "cell_type": "markdown",
   "id": "86adaab6",
   "metadata": {},
   "source": [
    "#### Q1. What are the benefits of the built-in array package, if any?"
   ]
  },
  {
   "cell_type": "markdown",
   "id": "7836d7aa",
   "metadata": {},
   "source": [
    "- Arrays represent multiple data items of the same type using a single name.\n",
    "- In arrays, the elements can be  accessed randomly by using the index number.\n",
    "- Arrays allocate memory in contiguous memory locations for all its elements. \n",
    "- Hence there is no chance of extra memory being allocated in case of arrays.\n",
    "- This avoids memory overflow or shortage of memory in arrays."
   ]
  },
  {
   "cell_type": "markdown",
   "id": "82a989cb",
   "metadata": {},
   "source": [
    "#### Q2. What are some of the array package's limitations?"
   ]
  },
  {
   "cell_type": "markdown",
   "id": "d61e1d14",
   "metadata": {},
   "source": [
    "- The number of elements to be stored in an array should be known in advance.\n",
    "- An array is a static structure (which means the array is of fixed size). \n",
    "- Once declared the size of the array cannot be modified.\n",
    "- The memory which is allocated to it cannot be increased or decreased.\n",
    "- Insertion and deletion are quite difficult in an  array as the elements are stored in consecutive memory locations and the shifting operation is costly.  \n",
    "- Allocating more memory than the requirement leads to wastage of memory space and less allocation of memory also leads to a problem."
   ]
  },
  {
   "cell_type": "markdown",
   "id": "ea391ebc",
   "metadata": {},
   "source": [
    "#### Q3. Describe the main differences between the array and numpy packages."
   ]
  },
  {
   "cell_type": "markdown",
   "id": "47b13cea",
   "metadata": {},
   "source": [
    "- The array package doesn't provide any help with numerical calculation with the items insdie it in number form  while NumPy give you a wide variety of numerical operations. \n",
    "- An array is a single dimensional entity which hold the numerical data, while numpy can have more than 1 dimension.\n",
    "- In case of array, item can be accessed by its index position and it is easy task while in numpy item is accessed by its column and row index, which makes  it slightly time taking. \n",
    "- Same goes with appending operation.In case of array we do not form a tabular  structure, while in numpy it forms a tabular structure."
   ]
  },
  {
   "cell_type": "markdown",
   "id": "f1945e30",
   "metadata": {},
   "source": [
    "#### Q4. Explain the distinctions between the empty, ones, and zeros functions."
   ]
  },
  {
   "cell_type": "markdown",
   "id": "59dfe382",
   "metadata": {},
   "source": [
    "- Empty function: An empty function is a function that does not contain any statement within its body.\n",
    "    - If you try to write a function definition without any statement in python ,it will return an error. \n",
    "    - To avoid this, we use pass statement. pass is a special statement in Python that does nothing. It only works as a dummy statement.\n",
    "- ones: This function returns a new array of given shape and data type, where the element’s value is 1.\n",
    "- zeros: This function returns a new array of given shape and data type, where the element’s value is 0."
   ]
  },
  {
   "cell_type": "markdown",
   "id": "944e8c39",
   "metadata": {},
   "source": [
    "#### Q5. In the fromfunction function, which is used to construct new arrays, what is the role of the callable argument?"
   ]
  },
  {
   "cell_type": "markdown",
   "id": "41cfb4c9",
   "metadata": {},
   "source": [
    "- Its function is to execute the function over each coordinate and the resulting array.\n",
    "- The function is called with N parameters, where N is the rank of shape.\n",
    "- Each parameter represents the coordinates of the array varying along a specific axis."
   ]
  },
  {
   "cell_type": "markdown",
   "id": "d6ea3b25",
   "metadata": {},
   "source": [
    "#### Q6. What happens when a numpy array is combined with a single-value operand (a scalar, such as an int or a floating-point value) through addition, as in the expression A + n?"
   ]
  },
  {
   "cell_type": "markdown",
   "id": "0461fc07",
   "metadata": {},
   "source": [
    "- If any scaler value such as integer is added to the numpy array then all the elements inside the array will add that value in it."
   ]
  },
  {
   "cell_type": "code",
   "execution_count": null,
   "id": "732b265f",
   "metadata": {},
   "outputs": [],
   "source": [
    "import numpy as np\n",
    "a=np.arange(9).reshape(3,3)\n",
    "print(a)\n",
    "print()\n",
    "print(a+1)"
   ]
  },
  {
   "cell_type": "markdown",
   "id": "0ccb25c4",
   "metadata": {},
   "source": [
    "#### Q7. Can array-to-scalar operations use combined operation-assign operators (such as += or *=)? What is the outcome?"
   ]
  },
  {
   "cell_type": "markdown",
   "id": "4e552691",
   "metadata": {},
   "source": [
    "- It will do the operation as per operators. \n",
    "- Like if we use + operand it will update the current array by adding  and when we use '*', it will update by multiplying."
   ]
  },
  {
   "cell_type": "code",
   "execution_count": null,
   "id": "1e18db57",
   "metadata": {},
   "outputs": [],
   "source": [
    "a"
   ]
  },
  {
   "cell_type": "code",
   "execution_count": null,
   "id": "02463b3d",
   "metadata": {},
   "outputs": [],
   "source": [
    "a+=1\n",
    "print(a)"
   ]
  },
  {
   "cell_type": "code",
   "execution_count": null,
   "id": "730545f1",
   "metadata": {},
   "outputs": [],
   "source": [
    "a*=2\n",
    "print(a)"
   ]
  },
  {
   "cell_type": "markdown",
   "id": "2807dbde",
   "metadata": {},
   "source": [
    "#### Q8. Does a numpy array contain fixed-length strings? What happens if you allocate a longer string to one of these arrays?"
   ]
  },
  {
   "cell_type": "markdown",
   "id": "e1a2198c",
   "metadata": {},
   "source": [
    "- Yes it is possible that we can include a string of fixed length in numpy array. \n",
    "- The dtype of any numpy array containing string values is the maximum length of any string present in the array.\n",
    "- Once set, it will only be able to store new string having length not more than the maximum length at the time of the creation. - If we try to reassign some another string value having length greater than the maximum length of the existing elements, it simply discards all the values beyond the maximum length accept upto those values which are under the limit."
   ]
  },
  {
   "cell_type": "code",
   "execution_count": null,
   "id": "d181cacf",
   "metadata": {},
   "outputs": [],
   "source": [
    "import numpy as np\n",
    "name = np.array(['ram', 'mohan', 'shiva'])\n",
    "name"
   ]
  },
  {
   "cell_type": "code",
   "execution_count": null,
   "id": "00292c14",
   "metadata": {},
   "outputs": [],
   "source": [
    "name[name=='ram']='undertaker'\n",
    "print(name)"
   ]
  },
  {
   "cell_type": "markdown",
   "id": "ba2b46fb",
   "metadata": {},
   "source": [
    "#### Q9. What happens when you combine two numpy arrays using an operation like addition (+) or multiplication (*)? What are the conditions for combining two numpy arrays?"
   ]
  },
  {
   "cell_type": "markdown",
   "id": "99f58066",
   "metadata": {},
   "source": [
    "- It will simply add or multiply element to element at same position.The only requirement which must be met are:\n",
    "        - 1) Data type should be same.\n",
    "        - 2) Shape of the two matrices must be same"
   ]
  },
  {
   "cell_type": "code",
   "execution_count": null,
   "id": "bbe3755c",
   "metadata": {},
   "outputs": [],
   "source": [
    "a2=a+2\n",
    "a2"
   ]
  },
  {
   "cell_type": "code",
   "execution_count": null,
   "id": "26319031",
   "metadata": {},
   "outputs": [],
   "source": [
    "a1=a\n",
    "a1+a2"
   ]
  },
  {
   "cell_type": "code",
   "execution_count": null,
   "id": "39338708",
   "metadata": {},
   "outputs": [],
   "source": [
    "a1*a2"
   ]
  },
  {
   "cell_type": "markdown",
   "id": "2170ee07",
   "metadata": {},
   "source": [
    "#### Q10. What is the best way to use a Boolean array to mask another array?"
   ]
  },
  {
   "cell_type": "code",
   "execution_count": null,
   "id": "9e9914f0",
   "metadata": {},
   "outputs": [],
   "source": [
    "y = np.array([True,True,False,True])          \n",
    "x = np.array([1,2,3,4])         \n",
    "m = np.ma.masked_where(x>2,y)  \n",
    "print(list(m))\n",
    "print(m.ndim)"
   ]
  },
  {
   "cell_type": "markdown",
   "id": "263fc1bd",
   "metadata": {},
   "source": [
    "#### Q11. What are three different ways to get the standard deviation of a wide collection of data using both standard Python and its packages? Sort the three of them by how quickly they execute."
   ]
  },
  {
   "cell_type": "markdown",
   "id": "56702682",
   "metadata": {},
   "source": [
    "- Standard deviation can be calculated in many ways.\n",
    "- If wee see the formula of SD, it says \n",
    "        - std= Square Root of [ Summation of [square of (x-mean)/number of observation] ] ."
   ]
  },
  {
   "cell_type": "code",
   "execution_count": null,
   "id": "745a2ed2",
   "metadata": {},
   "outputs": [],
   "source": [
    "import math\n",
    "N = 1\n",
    "avg=a\n",
    "total=N\n",
    "x=[1,2]\n",
    "SD=math.sqrt((1-a)**2+(2-a)**2/N)"
   ]
  },
  {
   "cell_type": "code",
   "execution_count": null,
   "id": "56ac3783",
   "metadata": {},
   "outputs": [],
   "source": [
    "#       2)Using Numpy Array package\n",
    "import numpy as np\n",
    "SD=np.std(x)\n",
    "SD"
   ]
  },
  {
   "cell_type": "code",
   "execution_count": null,
   "id": "b14a5f9a",
   "metadata": {},
   "outputs": [],
   "source": [
    "#       3) General calculation without using any package\n",
    "SD= (((1-avg)**2 + (2-avg)**2)/N)**1/2\n",
    "SD"
   ]
  },
  {
   "cell_type": "code",
   "execution_count": null,
   "id": "3cea0108",
   "metadata": {},
   "outputs": [],
   "source": []
  }
 ],
 "metadata": {
  "kernelspec": {
   "display_name": "Python 3 (ipykernel)",
   "language": "python",
   "name": "python3"
  },
  "language_info": {
   "codemirror_mode": {
    "name": "ipython",
    "version": 3
   },
   "file_extension": ".py",
   "mimetype": "text/x-python",
   "name": "python",
   "nbconvert_exporter": "python",
   "pygments_lexer": "ipython3",
   "version": "3.10.5"
  }
 },
 "nbformat": 4,
 "nbformat_minor": 5
}
