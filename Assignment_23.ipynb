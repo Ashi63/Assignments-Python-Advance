{
 "cells": [
  {
   "cell_type": "markdown",
   "id": "0fc81fa5",
   "metadata": {},
   "source": [
    "#### Q1. If you have any, what are your choices for increasing the comparison between different figures on the same graph?"
   ]
  },
  {
   "cell_type": "markdown",
   "id": "42037182",
   "metadata": {},
   "source": [
    "- Bar charts are good for comparisons, \n",
    "- while line charts work better for trends.\n",
    "- Scatter plot charts are good or relationships and distributions, \n",
    "- but pie charts should be used only for simple compositions — never for  comparisons or distributions."
   ]
  },
  {
   "cell_type": "markdown",
   "id": "f583a731",
   "metadata": {},
   "source": [
    "#### Q2. Can you explain the benefit of compound interest over a higher rate of interest that does not compound after reading this chapter?"
   ]
  },
  {
   "cell_type": "markdown",
   "id": "fba43e41",
   "metadata": {},
   "source": [
    "- Compound interest makes your money grow faster because interest is calculated on the accumulated interest over time as well as on your original principal.\n",
    "- Compounding can create a snowball effect, as the original investments plus the income earned from those investments grow together."
   ]
  },
  {
   "cell_type": "markdown",
   "id": "b7000ad1",
   "metadata": {},
   "source": [
    "#### Q3. What is a histogram, exactly? Name a numpy method for creating such a graph."
   ]
  },
  {
   "cell_type": "markdown",
   "id": "7be2bb86",
   "metadata": {},
   "source": [
    "- Histogram is a type of a plot which hold the total number of counts or the percentile value in y-axis w.r.t.\n",
    "corresponding x-variables. \n",
    "- When we say the number of counts it means that for a particular range in x-axis what will be the number of counts of the data points.\n",
    "- When we talk about percentile it shows the probability occurrence of the x-variable or what percentage of data are below that particular percetile value w.r.t. particular x-variable range.\n",
    "- Numpy has a built-in numpy. histogram() function."
   ]
  },
  {
   "cell_type": "markdown",
   "id": "a6f37f1d",
   "metadata": {},
   "source": [
    "#### Q4. If necessary, how do you change the aspect ratios between the X and Y axes?"
   ]
  },
  {
   "cell_type": "markdown",
   "id": "a4ddf08e",
   "metadata": {},
   "source": [
    "- We can use figure(figsize=(10,8)) function inside the matplot.pyplot library which we scale down or up the graph.\n",
    "\n",
    "figure(figsize=(10,8))"
   ]
  },
  {
   "cell_type": "markdown",
   "id": "62772207",
   "metadata": {},
   "source": [
    "#### Q5. Compare and contrast the three types of array multiplication between two numpy arrays: dot product, outer product, and regular multiplication of two numpy arrays."
   ]
  },
  {
   "cell_type": "code",
   "execution_count": 1,
   "id": "244c79dd",
   "metadata": {},
   "outputs": [
    {
     "name": "stdout",
     "output_type": "stream",
     "text": [
      "[[1 2 3]\n",
      " [4 5 6]\n",
      " [6 7 8]]\n",
      "\n",
      "[[10 20 30]\n",
      " [40 50 60]\n",
      " [60 70 80]]\n"
     ]
    }
   ],
   "source": [
    "import numpy as np\n",
    "\n",
    "a1=np.array([[1,2,3],[4,5,6],[6,7,8]])\n",
    "a2=np.array([[10,20,30],[40,50,60],[60,70,80]])\n",
    "\n",
    "print(a1)\n",
    "print()\n",
    "print(a2)"
   ]
  },
  {
   "cell_type": "markdown",
   "id": "884ce136",
   "metadata": {},
   "source": [
    "- standard multiplication\n",
    "- When we do standard multiplication in that case values of the same indexes in the array will get multiply."
   ]
  },
  {
   "cell_type": "code",
   "execution_count": 2,
   "id": "793252d7",
   "metadata": {},
   "outputs": [
    {
     "data": {
      "text/plain": [
       "array([[ 10,  40,  90],\n",
       "       [160, 250, 360],\n",
       "       [360, 490, 640]])"
      ]
     },
     "execution_count": 2,
     "metadata": {},
     "output_type": "execute_result"
    }
   ],
   "source": [
    "a1*a2"
   ]
  },
  {
   "cell_type": "markdown",
   "id": "60cc632a",
   "metadata": {},
   "source": [
    "- dot product\n",
    "- In case of dot product vector, multiplication will take place between row of first array and column of second array  respectively.\n",
    "- Like first row of array a1 will be multiply by column value of array a2 one by one and then added."
   ]
  },
  {
   "cell_type": "code",
   "execution_count": 3,
   "id": "f4e24418",
   "metadata": {},
   "outputs": [
    {
     "data": {
      "text/plain": [
       "array([[ 270,  330,  390],\n",
       "       [ 600,  750,  900],\n",
       "       [ 820, 1030, 1240]])"
      ]
     },
     "execution_count": 3,
     "metadata": {},
     "output_type": "execute_result"
    }
   ],
   "source": [
    "np.dot(a1,a2)"
   ]
  },
  {
   "cell_type": "markdown",
   "id": "183fae3e",
   "metadata": {},
   "source": [
    "- outer multiplication\n",
    "- In outer multiplication every element of first array a1 will be multiply by every element of other array a2 such such the number of columns will be equal to the number of element in another array a2."
   ]
  },
  {
   "cell_type": "code",
   "execution_count": 4,
   "id": "3a513b79",
   "metadata": {},
   "outputs": [
    {
     "data": {
      "text/plain": [
       "array([[ 10,  20,  30,  40,  50,  60,  60,  70,  80],\n",
       "       [ 20,  40,  60,  80, 100, 120, 120, 140, 160],\n",
       "       [ 30,  60,  90, 120, 150, 180, 180, 210, 240],\n",
       "       [ 40,  80, 120, 160, 200, 240, 240, 280, 320],\n",
       "       [ 50, 100, 150, 200, 250, 300, 300, 350, 400],\n",
       "       [ 60, 120, 180, 240, 300, 360, 360, 420, 480],\n",
       "       [ 60, 120, 180, 240, 300, 360, 360, 420, 480],\n",
       "       [ 70, 140, 210, 280, 350, 420, 420, 490, 560],\n",
       "       [ 80, 160, 240, 320, 400, 480, 480, 560, 640]])"
      ]
     },
     "execution_count": 4,
     "metadata": {},
     "output_type": "execute_result"
    }
   ],
   "source": [
    "np.outer(a1,a2)"
   ]
  },
  {
   "cell_type": "markdown",
   "id": "56095600",
   "metadata": {},
   "source": [
    "#### Q6. Before you buy a home, which numpy function will you use to measure your monthly mortgage payment?"
   ]
  },
  {
   "cell_type": "markdown",
   "id": "ffc508d6",
   "metadata": {},
   "source": [
    "- np.pmt(rate, nper, pv) function we will be using in order to calculate monthly mortgage payment before you purchase a house\n",
    "        - rate = The periodic interest rate\n",
    "        - nper = The number of payment periods\n",
    "        - pv = The total value of the mortgage loan"
   ]
  },
  {
   "cell_type": "markdown",
   "id": "8689d376",
   "metadata": {},
   "source": [
    "#### Q7. Can string data be stored in numpy arrays? If so, list at least one restriction that applies to this data."
   ]
  },
  {
   "cell_type": "markdown",
   "id": "6d8a9462",
   "metadata": {},
   "source": [
    "- Yes an array can store the string.\n",
    "- The limitation which imposed on the string data is, whenever we store the data of string dtype then it should should keep in mind that the string which is having the maximum length is the limit.\n",
    "- The dtype value is the maximum length of a string in such data.\n",
    "- Meaning suppose if any new string we wanted to add, then we can add only that string which have the length either equal to that dtype value or less than that. \n",
    "- If any string which are adding and if its length is more than the dtype value then it will only accept to maximum length and rest of the characters will not be included."
   ]
  },
  {
   "cell_type": "code",
   "execution_count": null,
   "id": "1a2da8ad",
   "metadata": {},
   "outputs": [],
   "source": []
  }
 ],
 "metadata": {
  "kernelspec": {
   "display_name": "Python 3 (ipykernel)",
   "language": "python",
   "name": "python3"
  },
  "language_info": {
   "codemirror_mode": {
    "name": "ipython",
    "version": 3
   },
   "file_extension": ".py",
   "mimetype": "text/x-python",
   "name": "python",
   "nbconvert_exporter": "python",
   "pygments_lexer": "ipython3",
   "version": "3.10.5"
  }
 },
 "nbformat": 4,
 "nbformat_minor": 5
}
