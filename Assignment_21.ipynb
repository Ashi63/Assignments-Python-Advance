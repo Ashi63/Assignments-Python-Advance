{
 "cells": [
  {
   "cell_type": "markdown",
   "id": "6cdb6868",
   "metadata": {},
   "source": [
    "#### Q1. What is a probability distribution, exactly? If the values are meant to be random, how can you predict them at all?"
   ]
  },
  {
   "cell_type": "markdown",
   "id": "55b5b7ef",
   "metadata": {},
   "source": [
    "- A probability distribution describes how a random variable is distributed,it tells us which values a random \n",
    "variable is most likely to take on and which values are less likely.\n",
    "- Based on the previous data and the occurences of the random event, we can predict the outcome in terms of probabilities."
   ]
  },
  {
   "cell_type": "markdown",
   "id": "39bb214b",
   "metadata": {},
   "source": [
    "#### Q2. Is there a distinction between true random numbers and pseudo-random numbers, if there is one? Why are the latter considered “good enough”?"
   ]
  },
  {
   "cell_type": "markdown",
   "id": "eac4af2f",
   "metadata": {},
   "source": [
    "- The difference between true random number(TRN) and pseudo-random number(PRN), is that \n",
    "- TRN's are unpredictable physical values means (like atmospheric noise), and \n",
    "- PRN are generated using mathematical algorithms (completely computer-generated).\n",
    "- The PRN's are good enough as they follow a uniform distribution and the seed for generating PRN is unpredictable and unknown."
   ]
  },
  {
   "cell_type": "markdown",
   "id": "16cc54e8",
   "metadata": {},
   "source": [
    "#### Q3. What are the two main factors that influence the behaviour of a \"normal\" probability distribution?"
   ]
  },
  {
   "cell_type": "markdown",
   "id": "2dbb9026",
   "metadata": {},
   "source": [
    "- A normal distribution is determined by two parameters the mean and the variance.\n",
    "- A normal distribution with a  mean of 0 and a standard deviation of 1 is called a standard normal distribution."
   ]
  },
  {
   "cell_type": "markdown",
   "id": "ca2849da",
   "metadata": {},
   "source": [
    "#### Q4. Provide a real-life example of a normal distribution."
   ]
  },
  {
   "cell_type": "markdown",
   "id": "647e9339",
   "metadata": {},
   "source": [
    "- Weights of the people in the world."
   ]
  },
  {
   "cell_type": "markdown",
   "id": "fa1ed755",
   "metadata": {},
   "source": [
    "#### Q5. In the short term, how can you expect a probability distribution to behave? What do you think will happen as the number of trials grows?"
   ]
  },
  {
   "cell_type": "markdown",
   "id": "c0510fe4",
   "metadata": {},
   "source": [
    "- When trails are less, the variance will large.\n",
    "- As the number of trials increase , the variance will reduce."
   ]
  },
  {
   "cell_type": "markdown",
   "id": "eb27eecb",
   "metadata": {},
   "source": [
    "#### Q6. What kind of object can be shuffled by using random.shuffle?"
   ]
  },
  {
   "cell_type": "markdown",
   "id": "bee456ba",
   "metadata": {},
   "source": [
    "- random.shuffle can used to shuffle list object"
   ]
  },
  {
   "cell_type": "markdown",
   "id": "d988d396",
   "metadata": {},
   "source": [
    "#### Q7. Describe the math package's general categories of functions."
   ]
  },
  {
   "cell_type": "markdown",
   "id": "87ead1b1",
   "metadata": {},
   "source": [
    "- The general categories of math package are\n",
    "    - 1) Trigonometric functions\n",
    "    - 2) Quadratic functions\n",
    "    - 3) Exponential functions\n",
    "    - 4) Hyperbolic functions\n",
    "    - 5) Periodic functions\n",
    "    - 6) Arithmetic functions\n",
    "    - 7) Logarithimic functions\n",
    "    - 8) Conversions to Integer"
   ]
  },
  {
   "cell_type": "markdown",
   "id": "fdc84c52",
   "metadata": {},
   "source": [
    "#### Q8. What is the relationship between exponentiation and logarithms?"
   ]
  },
  {
   "cell_type": "markdown",
   "id": "1cedfee0",
   "metadata": {},
   "source": [
    "- The exponential function is given by ƒ(x) = ex, whereas the logarithmic function is given by g(x) = ln x,\n",
    "- former is the inverse of the latter."
   ]
  },
  {
   "cell_type": "markdown",
   "id": "75702098",
   "metadata": {},
   "source": [
    "#### Q9. What are the three logarithmic functions that Python supports?"
   ]
  },
  {
   "cell_type": "markdown",
   "id": "2801e0c8",
   "metadata": {},
   "source": [
    "- 1)log2(x) - logarithmic value of x to base 2\n",
    "- 2)log10(x) - logarithmic value of x to base 10\n",
    "- 3)log(x,base) - logarithmic value of x to base. If only first parameter is given , it computes its value tp base e,natural logarithm\n",
    "- 4)log1p(x) - natural logarithm (base e) value of 1+x"
   ]
  },
  {
   "cell_type": "code",
   "execution_count": null,
   "id": "6b9fb1d7",
   "metadata": {},
   "outputs": [],
   "source": []
  }
 ],
 "metadata": {
  "kernelspec": {
   "display_name": "Python 3 (ipykernel)",
   "language": "python",
   "name": "python3"
  },
  "language_info": {
   "codemirror_mode": {
    "name": "ipython",
    "version": 3
   },
   "file_extension": ".py",
   "mimetype": "text/x-python",
   "name": "python",
   "nbconvert_exporter": "python",
   "pygments_lexer": "ipython3",
   "version": "3.10.5"
  }
 },
 "nbformat": 4,
 "nbformat_minor": 5
}
