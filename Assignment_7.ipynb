{
 "cells": [
  {
   "cell_type": "markdown",
   "id": "a514b768",
   "metadata": {},
   "source": [
    "#### Q1. What is the purpose of the try statement?"
   ]
  },
  {
   "cell_type": "markdown",
   "id": "960bd79a",
   "metadata": {},
   "source": [
    "- Try statement is used to trigger exception. \n",
    "- If code in try block causes some run time error, then try will throw an exception. Exception is caught by except block."
   ]
  },
  {
   "cell_type": "markdown",
   "id": "47d745a9",
   "metadata": {},
   "source": [
    "#### Q2. What are the two most popular try statement variations?"
   ]
  },
  {
   "cell_type": "markdown",
   "id": "498b6d55",
   "metadata": {},
   "source": [
    "- IOError – It occurs on errors like a file fails to open. \n",
    "- ImportError – If a python module can’t be loaded or located.\n",
    "- KeyboardInterrupt : when an unrequired key is pressed by the user.\n",
    "- ValueError : when built-in function receives a wrong argument. \n",
    "- EOFError : if End-Of-File is hit without reading any data."
   ]
  },
  {
   "cell_type": "markdown",
   "id": "3fd79215",
   "metadata": {},
   "source": [
    "- First, try clause is executed i.e. the code between try and except clause.\n",
    "- If there is no exception, then only try clause will run, except clause is finished.\n",
    "- If any exception occured, try clause will be skipped and except clause will run.\n",
    "- If any exception occurs, but the except clause within the code doesn’t handle it, it is passed on to the outer try statements. - If the exception left unhandled, then the execution stops.\n",
    "- A try statement can have more than one except clause"
   ]
  },
  {
   "cell_type": "markdown",
   "id": "f2c549ae",
   "metadata": {},
   "source": [
    "#### Q3. What is the purpose of the raise statement?"
   ]
  },
  {
   "cell_type": "markdown",
   "id": "257847fa",
   "metadata": {},
   "source": [
    "- The raise keyword is used to raise an exception.\n",
    "\n",
    "- You can define what kind of error to raise, and the text to print to the user."
   ]
  },
  {
   "cell_type": "code",
   "execution_count": 1,
   "id": "ebd75593",
   "metadata": {},
   "outputs": [
    {
     "ename": "Exception",
     "evalue": "Sorry, no numbers below zero",
     "output_type": "error",
     "traceback": [
      "\u001b[1;31m---------------------------------------------------------------------------\u001b[0m",
      "\u001b[1;31mException\u001b[0m                                 Traceback (most recent call last)",
      "Cell \u001b[1;32mIn[1], line 4\u001b[0m\n\u001b[0;32m      1\u001b[0m x \u001b[38;5;241m=\u001b[39m \u001b[38;5;241m-\u001b[39m\u001b[38;5;241m1\u001b[39m\n\u001b[0;32m      3\u001b[0m \u001b[38;5;28;01mif\u001b[39;00m x \u001b[38;5;241m<\u001b[39m \u001b[38;5;241m0\u001b[39m:\n\u001b[1;32m----> 4\u001b[0m   \u001b[38;5;28;01mraise\u001b[39;00m \u001b[38;5;167;01mException\u001b[39;00m(\u001b[38;5;124m\"\u001b[39m\u001b[38;5;124mSorry, no numbers below zero\u001b[39m\u001b[38;5;124m\"\u001b[39m)\n",
      "\u001b[1;31mException\u001b[0m: Sorry, no numbers below zero"
     ]
    }
   ],
   "source": [
    "x = -1\n",
    "\n",
    "if x < 0:\n",
    "  raise Exception(\"Sorry, no numbers below zero\")"
   ]
  },
  {
   "cell_type": "markdown",
   "id": "fd44950a",
   "metadata": {},
   "source": [
    "#### Q4. What does the assert statement do, and what other statement is it like?"
   ]
  },
  {
   "cell_type": "markdown",
   "id": "c882051d",
   "metadata": {},
   "source": [
    "- The assert keyword is used when debugging code.\n",
    "\n",
    "- The assert keyword lets you test if a condition in your code returns True, if not, the program will raise an AssertionError.\n",
    "\n",
    "- You can write a message to be written if the code returns False, check the example below."
   ]
  },
  {
   "cell_type": "code",
   "execution_count": 3,
   "id": "d257279a",
   "metadata": {},
   "outputs": [
    {
     "ename": "AssertionError",
     "evalue": "x should be 'hello'",
     "output_type": "error",
     "traceback": [
      "\u001b[1;31m---------------------------------------------------------------------------\u001b[0m",
      "\u001b[1;31mAssertionError\u001b[0m                            Traceback (most recent call last)",
      "Cell \u001b[1;32mIn[3], line 4\u001b[0m\n\u001b[0;32m      1\u001b[0m x \u001b[38;5;241m=\u001b[39m \u001b[38;5;124m\"\u001b[39m\u001b[38;5;124mhello\u001b[39m\u001b[38;5;124m\"\u001b[39m\n\u001b[0;32m      3\u001b[0m \u001b[38;5;66;03m#if condition returns False, AssertionError is raised:\u001b[39;00m\n\u001b[1;32m----> 4\u001b[0m \u001b[38;5;28;01massert\u001b[39;00m x \u001b[38;5;241m==\u001b[39m \u001b[38;5;124m\"\u001b[39m\u001b[38;5;124mgoodbye\u001b[39m\u001b[38;5;124m\"\u001b[39m, \u001b[38;5;124m\"\u001b[39m\u001b[38;5;124mx should be \u001b[39m\u001b[38;5;124m'\u001b[39m\u001b[38;5;124mhello\u001b[39m\u001b[38;5;124m'\u001b[39m\u001b[38;5;124m\"\u001b[39m\n",
      "\u001b[1;31mAssertionError\u001b[0m: x should be 'hello'"
     ]
    }
   ],
   "source": [
    "x = \"hello\"\n",
    "\n",
    "#if condition returns False, AssertionError is raised:\n",
    "assert x == \"goodbye\", \"x should be 'hello'\""
   ]
  },
  {
   "cell_type": "markdown",
   "id": "55c6ae40",
   "metadata": {},
   "source": [
    "#### Q5. What is the purpose of the with/as argument, and what other statement is it like?"
   ]
  },
  {
   "cell_type": "markdown",
   "id": "c34db615",
   "metadata": {},
   "source": [
    "- With statement in Python is used in exception handling to make the code cleaner and much more readable.\n",
    "- It simplifies the management of common resources like file streams.\n",
    "- The with statement itself ensures proper acquisition and release of resources.\n",
    "- This allows common try…except…finally usage patterns to be encapsulated for convenient reuse.\n",
    "\n",
    "- when \"as\" is used after \"with\", it will reassign the the returned object to a new identifier."
   ]
  },
  {
   "cell_type": "code",
   "execution_count": 4,
   "id": "d6a3e5f2",
   "metadata": {},
   "outputs": [],
   "source": [
    "# using with statement\n",
    "with open('file_path', 'w') as file:\n",
    "    file.write('hello world !')"
   ]
  },
  {
   "cell_type": "code",
   "execution_count": null,
   "id": "285fbc51",
   "metadata": {},
   "outputs": [],
   "source": []
  }
 ],
 "metadata": {
  "kernelspec": {
   "display_name": "Python 3 (ipykernel)",
   "language": "python",
   "name": "python3"
  },
  "language_info": {
   "codemirror_mode": {
    "name": "ipython",
    "version": 3
   },
   "file_extension": ".py",
   "mimetype": "text/x-python",
   "name": "python",
   "nbconvert_exporter": "python",
   "pygments_lexer": "ipython3",
   "version": "3.10.5"
  }
 },
 "nbformat": 4,
 "nbformat_minor": 5
}
