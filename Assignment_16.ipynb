{
 "cells": [
  {
   "cell_type": "markdown",
   "id": "3e7977d8",
   "metadata": {},
   "source": [
    "#### Q1. What is the benefit of regular expressions?"
   ]
  },
  {
   "cell_type": "markdown",
   "id": "580fec22",
   "metadata": {},
   "source": [
    "- Regular expression let us search the piece of text that matches the given pattern.\n",
    "- The main benefit of using them is, it saves lot of time and are very eeficient to use."
   ]
  },
  {
   "cell_type": "markdown",
   "id": "d751a9ef",
   "metadata": {},
   "source": [
    "#### Q2. Describe the difference between the effects of \"(ab)c+\" and \"a(bc)+.\" Which of these, if any, is the unqualified pattern \"abc+\"?"
   ]
  },
  {
   "cell_type": "markdown",
   "id": "437dd6a4",
   "metadata": {},
   "source": [
    "- Pattern (ab)c+ will search for at only one occurence of \"ab\" and one or more occurances of c.\n",
    "- Pattern a(bc)+ will search for at only one occurence of \"a\" and one or more occurances of bc.\n",
    "- pattern (ab)c+ can be unqualified pattern \"abc+\""
   ]
  },
  {
   "cell_type": "markdown",
   "id": "3eba4b16",
   "metadata": {},
   "source": [
    "#### Q3. How much do you need to use the following sentence while using regular expressions?\n",
    "import re"
   ]
  },
  {
   "cell_type": "markdown",
   "id": "970fb42e",
   "metadata": {},
   "source": [
    "- We have to use it everytime we use functions of the module re."
   ]
  },
  {
   "cell_type": "markdown",
   "id": "7851468c",
   "metadata": {},
   "source": [
    "#### Q4. Which characters have special significance in square brackets when expressing a range, and under what circumstances?"
   ]
  },
  {
   "cell_type": "markdown",
   "id": "b1114368",
   "metadata": {},
   "source": [
    "- \\ (backslash) : general escape character, is used when you use character class metacharacters as literals inside a character class only.\n",
    "\n",
    "- ^ (circumflex anchor) : negate the class, if this is the first character in the brackets(If ^ is not the first, it is not a metacharacter.)"
   ]
  },
  {
   "cell_type": "markdown",
   "id": "0a54ad3a",
   "metadata": {},
   "source": [
    "#### Q5. How does compiling a regular-expression object benefit you?"
   ]
  },
  {
   "cell_type": "markdown",
   "id": "f2f5e437",
   "metadata": {},
   "source": [
    "- It is faster compared to using pattern and other re functions."
   ]
  },
  {
   "cell_type": "markdown",
   "id": "dfd6b00d",
   "metadata": {},
   "source": [
    "#### Q6. What are some examples of how to use the match object returned by re.match and re.search?"
   ]
  },
  {
   "cell_type": "markdown",
   "id": "6d9344d4",
   "metadata": {},
   "source": [
    "- re.search() searches for the whole string even if the string contains multi-lines and tries to find a match of the substring in all the lines of string.\n",
    "- re.match() searches only from the beginning of the string and return match object if found. But if a match of substring is found somewhere in the middle of the string, it returns none.\n",
    "- But, both search() and match() returns only the first occurance of pattern."
   ]
  },
  {
   "cell_type": "code",
   "execution_count": 1,
   "id": "e946cc8f",
   "metadata": {},
   "outputs": [
    {
     "name": "stdout",
     "output_type": "stream",
     "text": [
      "<re.Match object; span=(0, 7), match='Ineuron'>\n",
      "None\n"
     ]
    }
   ],
   "source": [
    "import re\n",
    "\n",
    "pattern = 'ineuron'\n",
    "\n",
    "search = re.search(pattern,\"Ineuron is the best coaching class ineuron!\",re.IGNORECASE)\n",
    "\n",
    "print(search)\n",
    "\n",
    "match = re.match(pattern,\"The best coaching class is Ineuron!\",re.IGNORECASE)\n",
    "\n",
    "print(match)"
   ]
  },
  {
   "cell_type": "markdown",
   "id": "f4556a41",
   "metadata": {},
   "source": [
    "#### Q7. What is the difference between using a vertical bar (|) as an alteration and using square brackets as a character set?"
   ]
  },
  {
   "cell_type": "markdown",
   "id": "80609c51",
   "metadata": {},
   "source": [
    "- | : is regex or. It will check either of any string is present in search string.\n",
    "\n",
    "- [] : This will search for any character is present in string."
   ]
  },
  {
   "cell_type": "code",
   "execution_count": 2,
   "id": "1a665cbe",
   "metadata": {},
   "outputs": [
    {
     "name": "stdout",
     "output_type": "stream",
     "text": [
      "['She']\n",
      "['she is great human!']\n"
     ]
    }
   ],
   "source": [
    "import re\n",
    "\n",
    "print(re.findall(\"She|he\", \"She is a great human!\"))\n",
    "\n",
    "print(re.findall(r'[^\\d]+',\"she is great human!\"))"
   ]
  },
  {
   "cell_type": "markdown",
   "id": "bd30c7df",
   "metadata": {},
   "source": [
    "#### Q8. In regular-expression search patterns, why is it necessary to use the raw-string indicator (r)? In replacement strings?"
   ]
  },
  {
   "cell_type": "markdown",
   "id": "4bd6634b",
   "metadata": {},
   "source": [
    "- r indicates raw string means that the characters ahead are individual charachers not escape characters. \n",
    "- It changes how the string literal is interpreted.\n",
    "- Such literals are stored as they appear."
   ]
  },
  {
   "cell_type": "code",
   "execution_count": null,
   "id": "7060c35e",
   "metadata": {},
   "outputs": [],
   "source": []
  }
 ],
 "metadata": {
  "kernelspec": {
   "display_name": "Python 3 (ipykernel)",
   "language": "python",
   "name": "python3"
  },
  "language_info": {
   "codemirror_mode": {
    "name": "ipython",
    "version": 3
   },
   "file_extension": ".py",
   "mimetype": "text/x-python",
   "name": "python",
   "nbconvert_exporter": "python",
   "pygments_lexer": "ipython3",
   "version": "3.10.5"
  }
 },
 "nbformat": 4,
 "nbformat_minor": 5
}
