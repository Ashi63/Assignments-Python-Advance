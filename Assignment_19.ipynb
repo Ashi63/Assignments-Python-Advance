{
 "cells": [
  {
   "cell_type": "markdown",
   "id": "f9a54abe",
   "metadata": {},
   "source": [
    "#### Q1. Define the relationship between a class and its instances. Is it a one-to-one or a one-to-many partnership, for example?"
   ]
  },
  {
   "cell_type": "markdown",
   "id": "a05a085d",
   "metadata": {},
   "source": [
    "- Class is abstraction of an real world entity. \n",
    "- It consists of attributes and methods. \n",
    "- Instance is an object of a class. \n",
    "- It is one to many relationship between class and its instatnces."
   ]
  },
  {
   "cell_type": "markdown",
   "id": "40c5a28a",
   "metadata": {},
   "source": [
    "#### Q2. What kind of data is held only in an instance?"
   ]
  },
  {
   "cell_type": "markdown",
   "id": "f8f161b8",
   "metadata": {},
   "source": [
    "- Instance objects contains the Instance variables which are specific to that specific Instance object."
   ]
  },
  {
   "cell_type": "markdown",
   "id": "0234854b",
   "metadata": {},
   "source": [
    "#### Q3. What kind of knowledge is stored in a class?"
   ]
  },
  {
   "cell_type": "markdown",
   "id": "abf7b53e",
   "metadata": {},
   "source": [
    "- Class creates a user-defined data structure, which holds its own data members and member functions,which can be\n",
    "accessed and used by creating an instance of that class.\n",
    "- A class is like a blueprint for an object. "
   ]
  },
  {
   "cell_type": "markdown",
   "id": "7e5098ae",
   "metadata": {},
   "source": [
    "#### Q4. What exactly is a method, and how is it different from a regular function?"
   ]
  },
  {
   "cell_type": "markdown",
   "id": "ce50ac79",
   "metadata": {},
   "source": [
    "- The methods with a class can be used to access the instance variables of its instance.\n",
    "- So, the object's state can be modified by its method.\n",
    "- Function can't access the attributes of an instance of a class or cant modify the state of the object."
   ]
  },
  {
   "cell_type": "markdown",
   "id": "14c41af1",
   "metadata": {},
   "source": [
    "#### Q5. Is inheritance supported in Python, and if so, what is the syntax?"
   ]
  },
  {
   "cell_type": "markdown",
   "id": "57a73549",
   "metadata": {},
   "source": [
    "- Inheritance is supported by python"
   ]
  },
  {
   "cell_type": "code",
   "execution_count": 2,
   "id": "81b38bb9",
   "metadata": {},
   "outputs": [
    {
     "name": "stdout",
     "output_type": "stream",
     "text": [
      "Class of Instance: <class '__main__.B'>\n",
      "Base class: (<class '__main__.A'>,)\n"
     ]
    }
   ],
   "source": [
    "class A:\n",
    "        var=1\n",
    "        def __init__(self):\n",
    "            pass\n",
    "class B(A):                            #< --- syntax, class B is derived from class A\n",
    "    def __init__(self):\n",
    "        super().__init__()\n",
    "        \n",
    "b=B()\n",
    "print(\"Class of Instance:\",b.__class__)\n",
    "print(\"Base class:\",b.__class__.__bases__)"
   ]
  },
  {
   "cell_type": "markdown",
   "id": "2c4a270b",
   "metadata": {},
   "source": [
    "#### Q6. How much encapsulation (making instance or class variables private) does Python support?"
   ]
  },
  {
   "cell_type": "markdown",
   "id": "aac72ace",
   "metadata": {},
   "source": [
    "- The private attributes and methods are not really hidden. \n",
    "- The private attributes can be accessed within the object method.\n",
    "- So truely nothing is private in python."
   ]
  },
  {
   "cell_type": "markdown",
   "id": "dc92fcd8",
   "metadata": {},
   "source": [
    "#### Q7. How do you distinguish between a class variable and an instance variable?"
   ]
  },
  {
   "cell_type": "markdown",
   "id": "f8d2f24b",
   "metadata": {},
   "source": [
    "- The class attribute is available to all the instance objects of that class. \n",
    "- Instance variable is accessible  only to the object or Instance of that class."
   ]
  },
  {
   "cell_type": "markdown",
   "id": "4d19315d",
   "metadata": {},
   "source": [
    "#### Q8. When, if ever, can self be included in a class's method definitions?"
   ]
  },
  {
   "cell_type": "markdown",
   "id": "85fbebc1",
   "metadata": {},
   "source": [
    "- self can included to access the class variables and instance variiables."
   ]
  },
  {
   "cell_type": "markdown",
   "id": "b43949a5",
   "metadata": {},
   "source": [
    "#### Q9. What is the difference between the _ add _ and the _ radd _ methods?"
   ]
  },
  {
   "cell_type": "markdown",
   "id": "d4479a20",
   "metadata": {},
   "source": [
    "- The Python __radd__() method implements the reverse addition operation that is addition with reflected, swapped operands. \n",
    "- So, when you call x + y, Python attempts to call x.__add__(y). \n",
    "- Only if the method is not implemented on the left operand, Python attempts to call __radd__ on the right operand and if this isn’t implemented either, it raises a TypeError.\n",
    "\n",
    "- So, the difference between x.__add__(y) and x.__radd__(y) is that the former calculates x + y whereas the latter calculates y + x — both calling the respective method defined on the object x."
   ]
  },
  {
   "cell_type": "markdown",
   "id": "cbb669ee",
   "metadata": {},
   "source": [
    "#### Q10. When is it necessary to use a reflection method? When do you not need it, even though you support the operation in question?"
   ]
  },
  {
   "cell_type": "markdown",
   "id": "8d250601",
   "metadata": {},
   "source": [
    "- Suppose we are implementing a class that you want to act like a number via operator overloading.\n",
    "- So we implement __add__ in your class, and now expressions like obj + 10 is acceptable.\n",
    "- This is because obj + 10 is interpreted as obj.__add__(10), and the custom method __add__ can do whatever it means to add 10 to custom class.\n",
    "- However, what about an expression like 10 + obj which is really (10).__add__(myobj)? \n",
    "- The 10 is an instance of a Python built-in type and its __add__ method doesn't know anything about the new type,obj, so it will return a error NotImplemented. \n",
    "- To handle such scenarios, __radd__ is used. \n",
    "- Python will first try (10).__add__(myobj), and if that returns NotImplemented, Python will check if the right-hand operand implements __radd__, and if it does, it will call obj.__radd__(10) rather than raising a TypeError."
   ]
  },
  {
   "cell_type": "markdown",
   "id": "34533b18",
   "metadata": {},
   "source": [
    "#### Q11. What is the _ iadd _ method called?"
   ]
  },
  {
   "cell_type": "markdown",
   "id": "67abd6ca",
   "metadata": {},
   "source": [
    "- __iadd__ method is called when we use implementation like a+=b which is a.__iadd__(b)"
   ]
  },
  {
   "cell_type": "code",
   "execution_count": 4,
   "id": "41d57f0f",
   "metadata": {},
   "outputs": [
    {
     "name": "stdout",
     "output_type": "stream",
     "text": [
      "5\n"
     ]
    }
   ],
   "source": [
    "class A:\n",
    "    def __init__(self,x):\n",
    "        self.x=x\n",
    "    def __iadd__(self,other):\n",
    "        self.x += other.x\n",
    "        return self.x\n",
    "obj1=A(2)\n",
    "obj2=A(3)\n",
    "obj1+=obj2\n",
    "print(obj1)"
   ]
  },
  {
   "cell_type": "markdown",
   "id": "618954e3",
   "metadata": {},
   "source": [
    "#### Q12. Is the _ init _ method inherited by subclasses? What do you do if you need to customize its behavior within a subclass?"
   ]
  },
  {
   "cell_type": "markdown",
   "id": "6b3cdaee",
   "metadata": {},
   "source": [
    "- __init__ method is inherited by its subclass. But it can be overloaded, to customize it."
   ]
  },
  {
   "cell_type": "code",
   "execution_count": 5,
   "id": "3ef6cb35",
   "metadata": {},
   "outputs": [
    {
     "data": {
      "text/plain": [
       "7"
      ]
     },
     "execution_count": 5,
     "metadata": {},
     "output_type": "execute_result"
    }
   ],
   "source": [
    "class A:\n",
    "    def __init__(self,x):\n",
    "        self.x=x\n",
    "class B(A):\n",
    "    pass\n",
    "obj=B(2)\n",
    "obj.x \n",
    "#        here the value x is accessible to instance of class B which is subclass of class A.This means\n",
    "#        __init__ of class A is inherited in sub class B\n",
    "class C(A):\n",
    "    def __init__(self,x,y): # Here we are overloading the __init__ inherited from class A \n",
    "        self.x=x\n",
    "        self.y=y\n",
    "    def func(self):\n",
    "        return(self.x + self.y)\n",
    "obj1=C(3,4)\n",
    "obj1.func()"
   ]
  },
  {
   "cell_type": "code",
   "execution_count": null,
   "id": "38acb172",
   "metadata": {},
   "outputs": [],
   "source": []
  }
 ],
 "metadata": {
  "kernelspec": {
   "display_name": "Python 3 (ipykernel)",
   "language": "python",
   "name": "python3"
  },
  "language_info": {
   "codemirror_mode": {
    "name": "ipython",
    "version": 3
   },
   "file_extension": ".py",
   "mimetype": "text/x-python",
   "name": "python",
   "nbconvert_exporter": "python",
   "pygments_lexer": "ipython3",
   "version": "3.10.5"
  }
 },
 "nbformat": 4,
 "nbformat_minor": 5
}
