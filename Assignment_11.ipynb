{
 "cells": [
  {
   "cell_type": "markdown",
   "id": "866cf289",
   "metadata": {},
   "source": [
    "#### Q1. What is the concept of a metaclass? "
   ]
  },
  {
   "cell_type": "markdown",
   "id": "0fc49b3b",
   "metadata": {},
   "source": [
    "- In python everything is associated with type. In other programming languages, int, str, array are data type. \n",
    "- But, in python, they are objects of the class int, str, list, dict. We can create user defined type by creating a class and then object of that class.\n",
    "\n",
    "- A Class is also an object, and just like any other object it’s a instance of something called Metaclass. A special class type creates these Class object.\n",
    "- The type class is default metaclass which is responsible for making classes."
   ]
  },
  {
   "cell_type": "code",
   "execution_count": 9,
   "id": "73f1e4a9",
   "metadata": {},
   "outputs": [
    {
     "name": "stdout",
     "output_type": "stream",
     "text": [
      "<class 'type'>\n",
      "<class '__main__.Ineuron'>\n"
     ]
    }
   ],
   "source": [
    "class Ineuron:\n",
    "    pass\n",
    "\n",
    "a = Ineuron()\n",
    "\n",
    "print(type(Ineuron))\n",
    "print(type(Ineuron()))\n",
    "\n"
   ]
  },
  {
   "cell_type": "code",
   "execution_count": 11,
   "id": "0da95c29",
   "metadata": {},
   "outputs": [
    {
     "name": "stdout",
     "output_type": "stream",
     "text": [
      "<class 'type'>\n"
     ]
    }
   ],
   "source": [
    "a =type(\"Python\",(),{})\n",
    "print((type(a)))"
   ]
  },
  {
   "cell_type": "markdown",
   "id": "6ee5f30c",
   "metadata": {},
   "source": [
    "#### Q2. What is the best way to declare a class's metaclass?"
   ]
  },
  {
   "cell_type": "markdown",
   "id": "50c22e50",
   "metadata": {},
   "source": [
    "- When defining a class and no metaclass is defined the default type metaclass will be used. \n",
    "- If a metaclass is given and it is not an instance of type(), then it is used directly as the metaclass."
   ]
  },
  {
   "cell_type": "markdown",
   "id": "00c381e0",
   "metadata": {},
   "source": [
    "#### Q3. How do class decorators overlap with metaclasses for handling classes?"
   ]
  },
  {
   "cell_type": "markdown",
   "id": "aa0ef05b",
   "metadata": {},
   "source": [
    "- Both decorators and metaclass have some common things. \n",
    "- When we want to aplly some common functionality to attributes of the class instances, both can be used. \n",
    "- There are some problems which can be solved by decorators as well as by metaclasses.\n",
    "- But there are a few problems that can only be solved by metaclasses.\n",
    "- Use of metaclass affects its children while the decorator affects only the current class."
   ]
  },
  {
   "cell_type": "markdown",
   "id": "7d3f7356",
   "metadata": {},
   "source": [
    "#### Q4. How do class decorators overlap with metaclasses for handling instances?"
   ]
  },
  {
   "cell_type": "markdown",
   "id": "e2521a02",
   "metadata": {},
   "source": [
    "- Both decorators and metaclass have some common things.\n",
    "- When we want to aplly some common functionality to attributes of the class instances, both can be used. There are some problems which can be solved by decorators as well as by metaclasses.\n",
    "- But there are a few problems that can only be solved by metaclasses. Use of metaclass affects its children while the decorator affects only the current class."
   ]
  },
  {
   "cell_type": "code",
   "execution_count": null,
   "id": "3f1ef52d",
   "metadata": {},
   "outputs": [],
   "source": []
  }
 ],
 "metadata": {
  "kernelspec": {
   "display_name": "Python 3 (ipykernel)",
   "language": "python",
   "name": "python3"
  },
  "language_info": {
   "codemirror_mode": {
    "name": "ipython",
    "version": 3
   },
   "file_extension": ".py",
   "mimetype": "text/x-python",
   "name": "python",
   "nbconvert_exporter": "python",
   "pygments_lexer": "ipython3",
   "version": "3.10.5"
  }
 },
 "nbformat": 4,
 "nbformat_minor": 5
}
